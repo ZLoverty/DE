{
 "cells": [
  {
   "cell_type": "markdown",
   "id": "75eabacf",
   "metadata": {},
   "source": [
    "# Growth curve \n",
    "\n",
    "As a convention, whenever the working settings with bacteria change, the growth curve of bacteria needs to be measured. The growth curve sets the ground for future experiment planning. It also gives hints whether the culturing conditions need to be modified or not."
   ]
  },
  {
   "cell_type": "code",
   "execution_count": 2,
   "id": "8ca5e6d4",
   "metadata": {},
   "outputs": [],
   "source": [
    "import numpy as np\n",
    "import pandas as pd"
   ]
  },
  {
   "cell_type": "code",
   "execution_count": 11,
   "id": "2cbe08a5",
   "metadata": {},
   "outputs": [],
   "source": [
    "# Data 5/11 \n",
    "c1 = [0, 0.396/20, 0.410/20]\n",
    "c2 = [5+10/60, 0.316, 0.314] # AD62\n",
    "c3 = [6+23/60, 0.509, 0.422] # AD63\n",
    "data_5_11 = pd.DataFrame(data=[c1, c2, c3], columns=['t', 'AD62', 'AD63'])"
   ]
  },
  {
   "cell_type": "code",
   "execution_count": 14,
   "id": "48bf1c29",
   "metadata": {},
   "outputs": [
    {
     "data": {
      "text/plain": [
       "<AxesSubplot:xlabel='t'>"
      ]
     },
     "execution_count": 14,
     "metadata": {},
     "output_type": "execute_result"
    },
    {
     "data": {
      "image/png": "[encoded data removed]",
      "text/plain": [
       "<Figure size 432x288 with 1 Axes>"
      ]
     },
     "metadata": {
      "needs_background": "light"
     },
     "output_type": "display_data"
    }
   ],
   "source": [
    "data_5_11.set_index('t').plot(ls='', marker='o')"
   ]
  },
  {
   "cell_type": "code",
   "execution_count": null,
   "id": "90903a52",
   "metadata": {},
   "outputs": [],
   "source": [
    "# Data 5/18\n",
    "c1 = [0, 0.047, 0.048]\n",
    "c2 = [1+17/60, 0.128, 0.132]\n",
    "c3 = []\n"
   ]
  }
 ],
 "metadata": {
  "kernelspec": {
   "display_name": "Python 3",
   "language": "python",
   "name": "python3"
  },
  "language_info": {
   "codemirror_mode": {
    "name": "ipython",
    "version": 3
   },
   "file_extension": ".py",
   "mimetype": "text/x-python",
   "name": "python",
   "nbconvert_exporter": "python",
   "pygments_lexer": "ipython3",
   "version": "3.8.5"
  }
 },
 "nbformat": 4,
 "nbformat_minor": 5
}
