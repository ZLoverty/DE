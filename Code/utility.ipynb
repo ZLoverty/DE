{
 "cells": [
  {
   "cell_type": "markdown",
   "id": "cd526433",
   "metadata": {},
   "source": [
    "# Utility\n",
    "\n",
    "- generate directories to help writing batch job commands"
   ]
  },
  {
   "cell_type": "code",
   "execution_count": 1,
   "id": "8d0f7b89",
   "metadata": {},
   "outputs": [
    {
     "name": "stdout",
     "output_type": "stream",
     "text": [
      "python extractImages.py /home/zhengyang/data/DE/08122021/2021-08-12_16h32m19s &\n",
      "python extractImages.py /home/zhengyang/data/DE/08122021/2021-08-12_16h41m05s &\n",
      "python extractImages.py /home/zhengyang/data/DE/08122021/2021-08-12_16h53m13s &\n",
      "python extractImages.py /home/zhengyang/data/DE/08122021/channel &\n",
      "python extractImages.py /home/zhengyang/data/DE/08122021/2021-08-12_16h47m32s &\n",
      "python extractImages.py /home/zhengyang/data/DE/08122021/2021-08-12_16h44m01s &\n",
      "python extractImages.py /home/zhengyang/data/DE/08122021/2021-08-12_16h37m10s &\n"
     ]
    }
   ],
   "source": [
    "import os\n",
    "\n",
    "folder = '/home/zhengyang/data/DE/08122021'\n",
    "sfL = next(os.walk(folder))[1]\n",
    "\n",
    "for s in sfL:\n",
    "    print('python extractImages.py ' + os.path.join(folder, s) + ' &')"
   ]
  },
  {
   "cell_type": "code",
   "execution_count": 6,
   "id": "049cb0a9",
   "metadata": {},
   "outputs": [
    {
     "name": "stdout",
     "output_type": "stream",
     "text": [
      "/home/zhengyang/data/DE/07202021/1st-drop-tracking/2021-07-20_16h47m59s/images\n",
      "/home/zhengyang/data/DE/07202021/1st-drop-tracking/2021-07-20_16h50m22s/images\n",
      "/home/zhengyang/data/DE/07202021/1st-drop-tracking/2021-07-20_16h44m58s/images\n",
      "/home/zhengyang/data/DE/07202021/1st-drop-tracking/2021-07-20_16h35m47s/images\n",
      "/home/zhengyang/data/DE/07202021/1st-drop-tracking/2021-07-20_16h34m28s/images\n",
      "/home/zhengyang/data/DE/07202021/1st-drop-tracking/2021-07-20_16h31m06s/images\n",
      "/home/zhengyang/data/DE/07202021/1st-drop-tracking/2021-07-20_16h28m21s-m4/images\n",
      "/home/zhengyang/data/DE/07202021/1st-drop-tracking/2021-07-20_16h25m35s-m2/images\n",
      "/home/zhengyang/data/DE/07202021/1st-drop-tracking/2021-07-20_16h27m01s-m3/images\n",
      "/home/zhengyang/data/DE/07202021/1st-drop-tracking/2021-07-20_16h29m43s-m5/images\n",
      "/home/zhengyang/data/DE/07202021/1st-drop-tracking/2021-07-20_16h32m59s/images\n",
      "/home/zhengyang/data/DE/07202021/1st-drop-tracking/2021-07-20_16h24m06s-mttry/images\n",
      "/home/zhengyang/data/DE/07202021/1st-drop-tracking/2021-07-20_16h43m54s/images\n",
      "/home/zhengyang/data/DE/07202021/1st-drop-tracking/2021-07-20_16h51m25s/images\n",
      "/home/zhengyang/data/DE/07202021/1st-drop-tracking/2021-07-20_16h42m46s/images\n"
     ]
    }
   ],
   "source": [
    "for s in sfL:\n",
    "    print(os.path.join(folder, s, 'images'))"
   ]
  },
  {
   "cell_type": "code",
   "execution_count": 3,
   "id": "9ac68c02",
   "metadata": {},
   "outputs": [
    {
     "name": "stdout",
     "output_type": "stream",
     "text": [
      "2021-08-04_16h42m12s\n",
      "2021-08-04_16h43m56s\n",
      "2021-08-04_16h37m16s\n",
      "2021-08-04_16h32m08s\n"
     ]
    }
   ],
   "source": [
    "# check if folder \"images\" exist\n",
    "for s in sfL:\n",
    "    d = os.path.join(folder, s, 'images')\n",
    "    if os.path.exists(d) == True:\n",
    "        print(s)"
   ]
  },
  {
   "cell_type": "markdown",
   "id": "90c5aead",
   "metadata": {},
   "source": [
    "## A Progress Bar"
   ]
  },
  {
   "cell_type": "code",
   "execution_count": 2,
   "id": "80c3ba56",
   "metadata": {},
   "outputs": [
    {
     "name": "stdout",
     "output_type": "stream",
     "text": [
      "label [#####################--------------------] 50%\n"
     ]
    }
   ],
   "source": [
    "print('label [#####################--------------------] 50%')"
   ]
  },
  {
   "cell_type": "code",
   "execution_count": 4,
   "id": "5e0f0cf4",
   "metadata": {},
   "outputs": [],
   "source": [
    "def show_progress(progress, label='', bar_length=60):\n",
    "    \"\"\" Display a progress bar\n",
    "    Args:\n",
    "    progress -- float between 0 and 1\n",
    "    label -- a string displayed before the progress bar\n",
    "    bar_length -- the length of the progress bar\n",
    "    \n",
    "    Returns:\n",
    "    None\n",
    "    \"\"\"\n",
    "    N_finish = int(progress*bar_length)\n",
    "    N_unfinish = bar_length - N_finish\n",
    "    print('{0} [{1}{2}] {3:.1f}%'.format(label, '#'*N_finish, '-'*N_unfinish, progress*100))"
   ]
  },
  {
   "cell_type": "code",
   "execution_count": 7,
   "id": "66180cfc",
   "metadata": {},
   "outputs": [
    {
     "name": "stdout",
     "output_type": "stream",
     "text": [
      "0812-data [##########################################------------------] 70.0%\n"
     ]
    }
   ],
   "source": [
    "show_progress(0.7, label='0812-data')"
   ]
  }
 ],
 "metadata": {
  "kernelspec": {
   "display_name": "Python 3",
   "language": "python",
   "name": "python3"
  },
  "language_info": {
   "codemirror_mode": {
    "name": "ipython",
    "version": 3
   },
   "file_extension": ".py",
   "mimetype": "text/x-python",
   "name": "python",
   "nbconvert_exporter": "python",
   "pygments_lexer": "ipython3",
   "version": "3.8.10"
  }
 },
 "nbformat": 4,
 "nbformat_minor": 5
}
