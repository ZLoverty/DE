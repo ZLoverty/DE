{
 "cells": [
  {
   "cell_type": "markdown",
   "id": "cd526433",
   "metadata": {},
   "source": [
    "# Utility\n",
    "\n",
    "- generate directories to help writing batch job commands"
   ]
  },
  {
   "cell_type": "code",
   "execution_count": 13,
   "id": "8d0f7b89",
   "metadata": {},
   "outputs": [
    {
     "name": "stdout",
     "output_type": "stream",
     "text": [
      "python extractImages.py /home/zhengyang/data/DE/08132021/2021-08-13_15h28m24s &\n",
      "python extractImages.py /home/zhengyang/data/DE/08132021/2021-08-13_15h31m03s &\n",
      "python extractImages.py /home/zhengyang/data/DE/08132021/2021-08-13_15h34m17s &\n",
      "python extractImages.py /home/zhengyang/data/DE/08132021/2021-08-13_15h38m55s &\n",
      "python extractImages.py /home/zhengyang/data/DE/08132021/2021-08-13_15h50m58s &\n",
      "python extractImages.py /home/zhengyang/data/DE/08132021/2021-08-13_15h56m31s &\n",
      "python extractImages.py /home/zhengyang/data/DE/08132021/2021-08-13_16h02m57s &\n",
      "python extractImages.py /home/zhengyang/data/DE/08132021/2021-08-13_16h05m45s &\n",
      "python extractImages.py /home/zhengyang/data/DE/08132021/2021-08-13_16h08m55s &\n",
      "python extractImages.py /home/zhengyang/data/DE/08132021/2021-08-13_16h12m54s &\n",
      "python extractImages.py /home/zhengyang/data/DE/08132021/2021-08-13_16h15m21s &\n",
      "python extractImages.py /home/zhengyang/data/DE/08132021/2021-08-13_16h20m05s &\n",
      "python extractImages.py /home/zhengyang/data/DE/08132021/2021-08-13_16h22m52s &\n",
      "python extractImages.py /home/zhengyang/data/DE/08132021/2021-08-13_16h26m25s &\n",
      "python extractImages.py /home/zhengyang/data/DE/08132021/2021-08-13_16h35m25s &\n"
     ]
    }
   ],
   "source": [
    "import os\n",
    "from corrLib import readdata\n",
    "\n",
    "folder = '/home/zhengyang/data/DE/08132021'\n",
    "l = readdata(folder, 'raw').sort_values(by='Dir')\n",
    "for num, i in l.iterrows():\n",
    "    print('python extractImages.py ' + os.path.split(i.Dir)[0] + ' &')"
   ]
  },
  {
   "cell_type": "code",
   "execution_count": 12,
   "id": "eaa3b2a4",
   "metadata": {},
   "outputs": [
    {
     "data": {
      "text/plain": [
       "'/home/zhengyang/data/DE/08132021/2021-08-13_16h35m25s/RawImage.raw'"
      ]
     },
     "execution_count": 12,
     "metadata": {},
     "output_type": "execute_result"
    }
   ],
   "source": [
    "i.Dir"
   ]
  },
  {
   "cell_type": "code",
   "execution_count": 17,
   "id": "9ac68c02",
   "metadata": {},
   "outputs": [
    {
     "name": "stdout",
     "output_type": "stream",
     "text": [
      "2021-08-13_15h28m24s\n",
      "2021-08-13_15h31m03s\n",
      "2021-08-13_15h34m17s\n",
      "2021-08-13_15h38m55s\n",
      "2021-08-13_15h50m58s\n",
      "2021-08-13_15h56m31s\n",
      "2021-08-13_16h02m57s\n",
      "2021-08-13_16h05m45s\n",
      "2021-08-13_16h08m55s\n",
      "2021-08-13_16h12m54s\n",
      "2021-08-13_16h15m21s\n",
      "2021-08-13_16h20m05s\n",
      "2021-08-13_16h22m52s\n",
      "2021-08-13_16h26m25s\n",
      "2021-08-13_16h35m25s\n"
     ]
    }
   ],
   "source": [
    "# check if folder \"images\" exist\n",
    "un_processed = []\n",
    "for num, i in l.iterrows():\n",
    "    d = os.path.join(os.path.split(i.Dir)[0], 'images')\n",
    "    s = os.path.split(os.path.split(i.Dir)[0])[1]\n",
    "    if os.path.exists(d) == True:\n",
    "        print(s)\n",
    "    else:\n",
    "        un_processed.append(s)\n",
    "if len(un_processed) != 0:\n",
    "    print(\"-------unprocessed------\")\n",
    "    for s in un_processed:\n",
    "        print(s)"
   ]
  },
  {
   "cell_type": "code",
   "execution_count": 4,
   "id": "6608a554",
   "metadata": {},
   "outputs": [
    {
     "data": {
      "text/plain": [
       "91.0606566257911"
      ]
     },
     "execution_count": 4,
     "metadata": {},
     "output_type": "execute_result"
    }
   ],
   "source": [
    "# random stuff\n",
    "import numpy as np\n",
    "k = 1.38e-23\n",
    "T = 300\n",
    "eta = 1e-3\n",
    "a = 1e-6\n",
    "v = 20e-6\n",
    "D0 = k*T/(6*np.pi*eta*a)\n",
    "Pe = v*a/D0\n",
    "Pe"
   ]
  },
  {
   "cell_type": "code",
   "execution_count": 5,
   "id": "332107e3",
   "metadata": {},
   "outputs": [
    {
     "data": {
      "text/plain": [
       "1841.2222222222222"
      ]
     },
     "execution_count": 5,
     "metadata": {},
     "output_type": "execute_result"
    }
   ],
   "source": [
    "91**2 / 9 * 2 +1"
   ]
  }
 ],
 "metadata": {
  "kernelspec": {
   "display_name": "Python 3",
   "language": "python",
   "name": "python3"
  },
  "language_info": {
   "codemirror_mode": {
    "name": "ipython",
    "version": 3
   },
   "file_extension": ".py",
   "mimetype": "text/x-python",
   "name": "python",
   "nbconvert_exporter": "python",
   "pygments_lexer": "ipython3",
   "version": "3.8.10"
  }
 },
 "nbformat": 4,
 "nbformat_minor": 5
}
