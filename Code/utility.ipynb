{
 "cells": [
  {
   "cell_type": "markdown",
   "id": "cd526433",
   "metadata": {},
   "source": [
    "# Utility\n",
    "\n",
    "- generate directories to help writing batch job commands"
   ]
  },
  {
   "cell_type": "code",
   "execution_count": 30,
   "id": "8d0f7b89",
   "metadata": {},
   "outputs": [
    {
     "name": "stdout",
     "output_type": "stream",
     "text": [
      "python extractImages.py /home/zhengyang/data/DE/08132021/2021-08-13_15h28m24s &\n",
      "python extractImages.py /home/zhengyang/data/DE/08132021/2021-08-13_15h31m03s &\n",
      "python extractImages.py /home/zhengyang/data/DE/08132021/2021-08-13_15h34m17s &\n",
      "python extractImages.py /home/zhengyang/data/DE/08132021/2021-08-13_15h38m55s &\n",
      "python extractImages.py /home/zhengyang/data/DE/08132021/2021-08-13_15h50m58s &\n",
      "python extractImages.py /home/zhengyang/data/DE/08132021/2021-08-13_15h56m31s &\n",
      "python extractImages.py /home/zhengyang/data/DE/08132021/2021-08-13_16h02m57s &\n",
      "python extractImages.py /home/zhengyang/data/DE/08132021/2021-08-13_16h05m45s &\n",
      "python extractImages.py /home/zhengyang/data/DE/08132021/2021-08-13_16h08m55s &\n",
      "python extractImages.py /home/zhengyang/data/DE/08132021/2021-08-13_16h12m54s &\n",
      "python extractImages.py /home/zhengyang/data/DE/08132021/2021-08-13_16h15m21s &\n",
      "python extractImages.py /home/zhengyang/data/DE/08132021/2021-08-13_16h20m05s &\n",
      "python extractImages.py /home/zhengyang/data/DE/08132021/2021-08-13_16h22m52s &\n",
      "python extractImages.py /home/zhengyang/data/DE/08132021/2021-08-13_16h26m25s &\n",
      "python extractImages.py /home/zhengyang/data/DE/08132021/2021-08-13_16h35m25s &\n"
     ]
    }
   ],
   "source": [
    "import os\n",
    "from corrLib import readdata\n",
    "import numpy as np\n",
    "import matplotlib.pyplot as plt\n",
    "from skimage import io\n",
    "from shutil import copyfile\n",
    "\n",
    "folder = '/home/zhengyang/data/DE/08132021'\n",
    "l = readdata(folder, 'raw').sort_values(by='Dir')\n",
    "for num, i in l.iterrows():\n",
    "    print('python extractImages.py ' + os.path.split(i.Dir)[0] + ' &')"
   ]
  },
  {
   "cell_type": "code",
   "execution_count": 12,
   "id": "eaa3b2a4",
   "metadata": {},
   "outputs": [
    {
     "data": {
      "text/plain": [
       "'/home/zhengyang/data/DE/08132021/2021-08-13_16h35m25s/RawImage.raw'"
      ]
     },
     "execution_count": 12,
     "metadata": {},
     "output_type": "execute_result"
    }
   ],
   "source": [
    "i.Dir"
   ]
  },
  {
   "cell_type": "code",
   "execution_count": 17,
   "id": "9ac68c02",
   "metadata": {},
   "outputs": [
    {
     "name": "stdout",
     "output_type": "stream",
     "text": [
      "2021-08-13_15h28m24s\n",
      "2021-08-13_15h31m03s\n",
      "2021-08-13_15h34m17s\n",
      "2021-08-13_15h38m55s\n",
      "2021-08-13_15h50m58s\n",
      "2021-08-13_15h56m31s\n",
      "2021-08-13_16h02m57s\n",
      "2021-08-13_16h05m45s\n",
      "2021-08-13_16h08m55s\n",
      "2021-08-13_16h12m54s\n",
      "2021-08-13_16h15m21s\n",
      "2021-08-13_16h20m05s\n",
      "2021-08-13_16h22m52s\n",
      "2021-08-13_16h26m25s\n",
      "2021-08-13_16h35m25s\n"
     ]
    }
   ],
   "source": [
    "# check if folder \"images\" exist\n",
    "un_processed = []\n",
    "for num, i in l.iterrows():\n",
    "    d = os.path.join(os.path.split(i.Dir)[0], 'images')\n",
    "    s = os.path.split(os.path.split(i.Dir)[0])[1]\n",
    "    if os.path.exists(d) == True:\n",
    "        print(s)\n",
    "    else:\n",
    "        un_processed.append(s)\n",
    "if len(un_processed) != 0:\n",
    "    print(\"-------unprocessed------\")\n",
    "    for s in un_processed:\n",
    "        print(s)"
   ]
  },
  {
   "cell_type": "markdown",
   "id": "ee0fa88b",
   "metadata": {},
   "source": [
    "## Extract track.txt, stagePosition.txt and reference image from raw data of bacteria.vi\n",
    "\n",
    "- Folders to find: dd_tt_ref_n, dd_tt_n\n",
    "- A separate log records the parameters in video n"
   ]
  },
  {
   "cell_type": "code",
   "execution_count": 2,
   "id": "332107e3",
   "metadata": {
    "scrolled": true
   },
   "outputs": [
    {
     "data": {
      "text/plain": [
       "['2021-07-21_16h41m52s_1', '2021-07-21_16h02m43s_ref_1']"
      ]
     },
     "execution_count": 2,
     "metadata": {},
     "output_type": "execute_result"
    }
   ],
   "source": [
    "folder = '/home/zhengyang/data/test_extractor'\n",
    "sfL = next(os.walk(folder))[1]\n",
    "sfL"
   ]
  },
  {
   "cell_type": "markdown",
   "id": "c9a60844",
   "metadata": {},
   "source": [
    "**Procedure**\n",
    "- Loop over all subfolders\n",
    "- if folder contains \"ref\", read the number n after the last \"_\"\n",
    "- create a folder with \"n\" as the name, in \"main_folder/extract\" if it does not exist already\n",
    "- if ref: extract 1st image and save in extract_folder, otherwise: copy track.txt, stagePosition.txt and rawImageInfo.txt to extract_folder"
   ]
  },
  {
   "cell_type": "code",
   "execution_count": 36,
   "id": "9a0970e7",
   "metadata": {},
   "outputs": [
    {
     "name": "stdout",
     "output_type": "stream",
     "text": [
      "/home/zhengyang/data/test_extractor/extract/1\n"
     ]
    }
   ],
   "source": [
    "folder = '/home/zhengyang/data/test_extractor'\n",
    "sfL = next(os.walk(folder))[1]\n",
    "for sf in sfL:\n",
    "    if sf == 'extract':\n",
    "        continue\n",
    "    n = sf.split('_')[-1]\n",
    "    extract_folder = os.path.join(folder, 'extract', n)\n",
    "    img_folder = os.path.join(folder, sf)\n",
    "    if os.path.exists(extract_folder) == False:\n",
    "        os.makedirs(extract_folder)\n",
    "        print(extract_folder)\n",
    "    if 'ref' in sf.split('_'):\n",
    "        # this is a reference image folder, only copy the 1st frame of .raw to extract_folder\n",
    "        if check_necessary_files(img_folder):\n",
    "            info_file = os.path.join(img_folder, 'RawImageInfo.txt')\n",
    "            raw_file = os.path.join(img_folder, 'RawImage.raw')\n",
    "            fps, h, w = read_raw_image_info(info_file)\n",
    "            images = np.fromfile(raw_file, dtype='uint16')\n",
    "            first_image = images[2:2+h*w].reshape(h, w)\n",
    "            io.imsave(os.path.join(extract_folder, 'ref.tif'), first_image)\n",
    "    else:\n",
    "        info_file = os.path.join(img_folder, 'RawImageInfo.txt')\n",
    "        SP_file = os.path.join(img_folder, 'StagePosition.txt')\n",
    "        track_file = os.path.join(img_folder, 'Track', 'Track.txt')\n",
    "        if os.path.exists(info_file) == True:\n",
    "            copyfile(info_file, os.path.join(extract_folder, 'RawImageInfo.txt'))\n",
    "        else:\n",
    "            print(\"RawImageInfo.txt does not exist\")\n",
    "            \n",
    "        if os.path.exists(SP_file) == True:\n",
    "            copyfile(SP_file, os.path.join(extract_folder, 'StagePosition.txt'))\n",
    "        else:\n",
    "            print(\"StagePosition.txt does not exist\")\n",
    "        \n",
    "        if os.path.exists(track_file) == True:\n",
    "            copyfile(track_file, os.path.join(extract_folder, 'Track.txt'))\n",
    "        else:\n",
    "            print(\"Track.txt does not exist\")"
   ]
  },
  {
   "cell_type": "code",
   "execution_count": 26,
   "id": "7fbae173",
   "metadata": {},
   "outputs": [
    {
     "data": {
      "text/plain": [
       "array([[11328, 10781, 11012, ..., 32767, 32185, 31406],\n",
       "       [11169, 10619, 10420, ..., 29841, 28819, 28419],\n",
       "       [10663, 10080, 10692, ..., 27203, 25943, 25107],\n",
       "       ...,\n",
       "       [19654, 19868, 20240, ...,  8869,  9066,  9066],\n",
       "       [19764, 19106, 20448, ...,  9307,  9277,  9161],\n",
       "       [18867, 19631, 19780, ...,  9320,  8980,  9216]], dtype=uint16)"
      ]
     },
     "execution_count": 26,
     "metadata": {},
     "output_type": "execute_result"
    }
   ],
   "source": [
    "first_image"
   ]
  },
  {
   "cell_type": "code",
   "execution_count": 10,
   "id": "064591f3",
   "metadata": {},
   "outputs": [],
   "source": [
    "def check_necessary_files(folder):\n",
    "    \"\"\" Check for necessary files\n",
    "    Check for RawImage.raw, RawImageInfo.txt (height, width, fps ...)\n",
    "    \n",
    "    Test:\n",
    "    info_file = os.path.join(folder, 'RawImageInfo.txt')\n",
    "    read_raw_image_info(info_file)\n",
    "    \"\"\"\n",
    "    return os.path.exists(os.path.join(folder, 'RawImage.raw')) and \\\n",
    "            os.path.exists(os.path.join(folder, 'RawImageInfo.txt'))\n",
    "\n",
    "def read_raw_image_info(info_file):\n",
    "    \"\"\"\n",
    "    Read image info, such as fps and image dimensions, from RawImageInfo.txt\n",
    "    \"\"\"\n",
    "    with open(info_file, 'r') as f:\n",
    "        a = f.read()\n",
    "    fps, h, w = a.split('\\n')[0:3]\n",
    "    return int(fps), int(h), int(w)"
   ]
  },
  {
   "cell_type": "code",
   "execution_count": 4,
   "id": "6986cfdc",
   "metadata": {},
   "outputs": [
    {
     "data": {
      "text/plain": [
       "[1]"
      ]
     },
     "execution_count": 4,
     "metadata": {},
     "output_type": "execute_result"
    }
   ],
   "source": [
    "unique_nList = list(set(nList))\n",
    "for n in unique_nList:\n",
    "    "
   ]
  }
 ],
 "metadata": {
  "kernelspec": {
   "display_name": "Python 3",
   "language": "python",
   "name": "python3"
  },
  "language_info": {
   "codemirror_mode": {
    "name": "ipython",
    "version": 3
   },
   "file_extension": ".py",
   "mimetype": "text/x-python",
   "name": "python",
   "nbconvert_exporter": "python",
   "pygments_lexer": "ipython3",
   "version": "3.8.10"
  }
 },
 "nbformat": 4,
 "nbformat_minor": 5
}
