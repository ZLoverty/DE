{
 "cells": [
  {
   "cell_type": "markdown",
   "id": "ac479c81",
   "metadata": {},
   "source": [
    "# Anchor video analysis\n",
    "\n",
    "This notebook analyze the anchor videos which records the activity of bacteria before experiments."
   ]
  },
  {
   "cell_type": "markdown",
   "id": "1f29efac",
   "metadata": {},
   "source": [
    "I will start by analyzing the particle detecting results from ImageJ. Later, the detecting routine will be implemented in Python."
   ]
  },
  {
   "cell_type": "code",
   "execution_count": 27,
   "id": "25a87f46",
   "metadata": {},
   "outputs": [],
   "source": [
    "import numpy as np\n",
    "import pandas as pd\n",
    "import matplotlib.pyplot as plt\n",
    "import os\n",
    "import trackpy as tp\n",
    "from scipy.optimize import curve_fit\n",
    "from activity_utils import *"
   ]
  },
  {
   "cell_type": "code",
   "execution_count": 42,
   "id": "1caefbbf",
   "metadata": {},
   "outputs": [
    {
     "name": "stdout",
     "output_type": "stream",
     "text": [
      "218111 particles are detected in 500 images\n"
     ]
    }
   ],
   "source": [
    "# load xy results\n",
    "folder = '/media/zhengyang/NothingToSay/DE/11032021/Analysis/12'\n",
    "xy = pd.read_csv(os.path.join(folder, 'detection.csv'))\n",
    "print(\"{0:d} particles are detected in {1:d} images\".format(len(xy), len(xy.frame.unique())))"
   ]
  },
  {
   "cell_type": "code",
   "execution_count": 43,
   "id": "e95baee7",
   "metadata": {},
   "outputs": [
    {
     "name": "stdout",
     "output_type": "stream",
     "text": [
      "Frame 500: 423 trajectories present.\n",
      "29403 particles survived\n"
     ]
    }
   ],
   "source": [
    "t = tp.link(xy, 10, memory=30)\n",
    "t1 = tp.filter_stubs(t, 50)\n",
    "print(\"{0:d} particles survived\".format(len(t1)))"
   ]
  },
  {
   "cell_type": "code",
   "execution_count": 44,
   "id": "1aef5903",
   "metadata": {},
   "outputs": [
    {
     "data": {
      "text/plain": [
       "Text(0, 0.5, 'MSD')"
      ]
     },
     "execution_count": 44,
     "metadata": {},
     "output_type": "execute_result"
    },
    {
     "data": {
      "image/png": "[encoded data removed]",
      "text/plain": [
       "<Figure size 432x288 with 1 Axes>"
      ]
     },
     "metadata": {
      "needs_background": "light"
     },
     "output_type": "display_data"
    }
   ],
   "source": [
    "# compute msd\n",
    "msd = tp.emsd(t1, mpp=0.11, fps=50, max_lagtime=50)\n",
    "msd.plot()\n",
    "plt.loglog()\n",
    "plt.ylabel('MSD')"
   ]
  },
  {
   "cell_type": "code",
   "execution_count": 45,
   "id": "93b111a2",
   "metadata": {},
   "outputs": [
    {
     "name": "stdout",
     "output_type": "stream",
     "text": [
      "v = 18.0 um/s\n",
      "if fitting is not good, tinker the fitting range in the msd_to_velocity function\n"
     ]
    },
    {
     "data": {
      "image/png": "[encoded data removed]",
      "text/plain": [
       "<Figure size 432x288 with 1 Axes>"
      ]
     },
     "metadata": {
      "needs_background": "light"
     },
     "output_type": "display_data"
    }
   ],
   "source": [
    "# fit msd for velocity and examine the fitting quality\n",
    "# plot the msd and fitting, if fitting is not good, tinker the fitting range in the msd_to_velocity function \n",
    "v = msd_to_velocity(msd[:0.1])\n",
    "msd.plot()\n",
    "plt.plot(msd.index, (v*msd.index)**2)\n",
    "plt.loglog()\n",
    "plt.ylabel('MSD')\n",
    "print('v = {:.1f} um/s\\nif fitting is not good, tinker the fitting range in the msd_to_velocity function'.format(v))"
   ]
  },
  {
   "cell_type": "code",
   "execution_count": 46,
   "id": "e65cdd55",
   "metadata": {},
   "outputs": [
    {
     "name": "stdout",
     "output_type": "stream",
     "text": [
      "Save successful!\n"
     ]
    }
   ],
   "source": [
    "# Save results? (MSD, velocity, MSD-velocity plot)\n",
    "msd.to_csv(os.path.join(folder, 'MSD.csv'))\n",
    "with open(os.path.join(folder, 'velocity.txt'), 'w') as f:\n",
    "    f.write(\"velocity = {:.1f} um/s\".format(v))\n",
    "msd.plot()\n",
    "plt.plot(msd.index, (v*msd.index)**2)\n",
    "plt.loglog()\n",
    "plt.ylabel('MSD')\n",
    "plt.savefig(os.path.join(folder, 'MSD-velocity.jpg'))\n",
    "plt.close()\n",
    "print(\"Save successful!\")"
   ]
  },
  {
   "cell_type": "code",
   "execution_count": 10,
   "id": "32b609d7",
   "metadata": {},
   "outputs": [],
   "source": [
    "# load video fast?\n",
    "from corrLib import readdata\n",
    "from skimage import io\n",
    "from myImageLib import bpass\n",
    "test_folder = '/home/zhengyang/data/DE/10262021/00'\n",
    "l = readdata(test_folder, 'tif')"
   ]
  },
  {
   "cell_type": "code",
   "execution_count": 16,
   "id": "1bae1068",
   "metadata": {},
   "outputs": [
    {
     "data": {
      "text/plain": [
       "0      /home/zhengyang/data/DE/10262021/00/00000.tif\n",
       "1      /home/zhengyang/data/DE/10262021/00/00001.tif\n",
       "2      /home/zhengyang/data/DE/10262021/00/00002.tif\n",
       "3      /home/zhengyang/data/DE/10262021/00/00003.tif\n",
       "4      /home/zhengyang/data/DE/10262021/00/00004.tif\n",
       "                           ...                      \n",
       "495    /home/zhengyang/data/DE/10262021/00/00495.tif\n",
       "496    /home/zhengyang/data/DE/10262021/00/00496.tif\n",
       "497    /home/zhengyang/data/DE/10262021/00/00497.tif\n",
       "498    /home/zhengyang/data/DE/10262021/00/00498.tif\n",
       "499    /home/zhengyang/data/DE/10262021/00/00499.tif\n",
       "Name: Dir, Length: 500, dtype: object"
      ]
     },
     "execution_count": 16,
     "metadata": {},
     "output_type": "execute_result"
    }
   ],
   "source": [
    "l.Dir"
   ]
  },
  {
   "cell_type": "code",
   "execution_count": 2,
   "id": "d9b7a244",
   "metadata": {},
   "outputs": [
    {
     "name": "stdout",
     "output_type": "stream",
     "text": [
      "CPU times: user 481 ms, sys: 417 ms, total: 898 ms\n",
      "Wall time: 897 ms\n"
     ]
    }
   ],
   "source": [
    "%%time\n",
    "im_list = []\n",
    "for num, i in l[:100].iterrows():\n",
    "    img = io.imread(i.Dir)\n",
    "    im_list.append(img)"
   ]
  },
  {
   "cell_type": "code",
   "execution_count": 17,
   "id": "581ff0d7",
   "metadata": {},
   "outputs": [
    {
     "name": "stdout",
     "output_type": "stream",
     "text": [
      "CPU times: user 83 µs, sys: 53 µs, total: 136 µs\n",
      "Wall time: 146 µs\n"
     ]
    }
   ],
   "source": [
    "%%time\n",
    "imseq = map(io.imread, l[:100].Dir)\n",
    "# li = list(imseq)"
   ]
  },
  {
   "cell_type": "code",
   "execution_count": 33,
   "id": "38b5fcd4",
   "metadata": {},
   "outputs": [],
   "source": [
    "imseq = map(io.imread, l[:100].Dir)\n",
    "bpseq = map(bpass, map(io.imread, l.Dir), np.ones(len(l))*3, np.ones(len(l))*100)"
   ]
  },
  {
   "cell_type": "code",
   "execution_count": 35,
   "id": "4dab20f1",
   "metadata": {},
   "outputs": [
    {
     "name": "stdout",
     "output_type": "stream",
     "text": [
      "list method takes 176.8 s\n",
      "* method takes 176.7 s\n"
     ]
    }
   ],
   "source": [
    "import time\n",
    "t1 = time.monotonic()\n",
    "imseq = map(io.imread, l[:100].Dir)\n",
    "bpseq = map(bpass, map(io.imread, l.Dir), np.ones(len(l))*3, np.ones(len(l))*100)\n",
    "list(bpseq)\n",
    "t2 = time.monotonic()\n",
    "imseq = map(io.imread, l[:100].Dir)\n",
    "bpseq = map(bpass, map(io.imread, l.Dir), np.ones(len(l))*3, np.ones(len(l))*100)\n",
    "[*bpseq]\n",
    "t3 = time.monotonic()\n",
    "print(\"list method takes {0:.1f} s\\n* method takes {1:.1f} s\".format(t2-t1, t3-t2))"
   ]
  }
 ],
 "metadata": {
  "kernelspec": {
   "display_name": "Python 3",
   "language": "python",
   "name": "python3"
  },
  "language_info": {
   "codemirror_mode": {
    "name": "ipython",
    "version": 3
   },
   "file_extension": ".py",
   "mimetype": "text/x-python",
   "name": "python",
   "nbconvert_exporter": "python",
   "pygments_lexer": "ipython3",
   "version": "3.8.10"
  }
 },
 "nbformat": 4,
 "nbformat_minor": 5
}
