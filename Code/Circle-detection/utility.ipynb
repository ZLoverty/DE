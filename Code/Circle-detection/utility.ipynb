{
 "cells": [
  {
   "cell_type": "markdown",
   "id": "cd526433",
   "metadata": {},
   "source": [
    "# Utility\n",
    "\n",
    "- generate directories to help writing batch job commands"
   ]
  },
  {
   "cell_type": "code",
   "execution_count": 1,
   "id": "8d0f7b89",
   "metadata": {},
   "outputs": [
    {
     "name": "stdout",
     "output_type": "stream",
     "text": [
      "python extractImages.py /home/zhengyang/data/DE/08042021/2021-08-04_16h42m12s &\n",
      "python extractImages.py /home/zhengyang/data/DE/08042021/2021-08-04_16h43m56s &\n",
      "python extractImages.py /home/zhengyang/data/DE/08042021/2021-08-04_16h37m16s &\n",
      "python extractImages.py /home/zhengyang/data/DE/08042021/2021-08-04_16h32m08s &\n"
     ]
    }
   ],
   "source": [
    "import os\n",
    "\n",
    "folder = '/home/zhengyang/data/DE/08042021'\n",
    "sfL = next(os.walk(folder))[1]\n",
    "\n",
    "for s in sfL:\n",
    "    print('python extractImages.py ' + os.path.join(folder, s) + ' &')"
   ]
  },
  {
   "cell_type": "code",
   "execution_count": 6,
   "id": "049cb0a9",
   "metadata": {},
   "outputs": [
    {
     "name": "stdout",
     "output_type": "stream",
     "text": [
      "/home/zhengyang/data/DE/07202021/1st-drop-tracking/2021-07-20_16h47m59s/images\n",
      "/home/zhengyang/data/DE/07202021/1st-drop-tracking/2021-07-20_16h50m22s/images\n",
      "/home/zhengyang/data/DE/07202021/1st-drop-tracking/2021-07-20_16h44m58s/images\n",
      "/home/zhengyang/data/DE/07202021/1st-drop-tracking/2021-07-20_16h35m47s/images\n",
      "/home/zhengyang/data/DE/07202021/1st-drop-tracking/2021-07-20_16h34m28s/images\n",
      "/home/zhengyang/data/DE/07202021/1st-drop-tracking/2021-07-20_16h31m06s/images\n",
      "/home/zhengyang/data/DE/07202021/1st-drop-tracking/2021-07-20_16h28m21s-m4/images\n",
      "/home/zhengyang/data/DE/07202021/1st-drop-tracking/2021-07-20_16h25m35s-m2/images\n",
      "/home/zhengyang/data/DE/07202021/1st-drop-tracking/2021-07-20_16h27m01s-m3/images\n",
      "/home/zhengyang/data/DE/07202021/1st-drop-tracking/2021-07-20_16h29m43s-m5/images\n",
      "/home/zhengyang/data/DE/07202021/1st-drop-tracking/2021-07-20_16h32m59s/images\n",
      "/home/zhengyang/data/DE/07202021/1st-drop-tracking/2021-07-20_16h24m06s-mttry/images\n",
      "/home/zhengyang/data/DE/07202021/1st-drop-tracking/2021-07-20_16h43m54s/images\n",
      "/home/zhengyang/data/DE/07202021/1st-drop-tracking/2021-07-20_16h51m25s/images\n",
      "/home/zhengyang/data/DE/07202021/1st-drop-tracking/2021-07-20_16h42m46s/images\n"
     ]
    }
   ],
   "source": [
    "for s in sfL:\n",
    "    print(os.path.join(folder, s, 'images'))"
   ]
  },
  {
   "cell_type": "code",
   "execution_count": 8,
   "id": "9ac68c02",
   "metadata": {},
   "outputs": [],
   "source": [
    "# check if folder \"images\" exist\n",
    "for s in sfL:\n",
    "    d = os.path.join(folder, s, 'images')\n",
    "    if os.path.exists(d) == False:\n",
    "        print(s)"
   ]
  }
 ],
 "metadata": {
  "kernelspec": {
   "display_name": "Python 3",
   "language": "python",
   "name": "python3"
  },
  "language_info": {
   "codemirror_mode": {
    "name": "ipython",
    "version": 3
   },
   "file_extension": ".py",
   "mimetype": "text/x-python",
   "name": "python",
   "nbconvert_exporter": "python",
   "pygments_lexer": "ipython3",
   "version": "3.8.10"
  }
 },
 "nbformat": 4,
 "nbformat_minor": 5
}
