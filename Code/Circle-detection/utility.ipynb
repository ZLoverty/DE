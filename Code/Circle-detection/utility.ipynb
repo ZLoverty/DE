{
 "cells": [
  {
   "cell_type": "markdown",
   "id": "cd526433",
   "metadata": {},
   "source": [
    "# Utility\n",
    "\n",
    "- generate directories to help writing batch job commands"
   ]
  },
  {
   "cell_type": "code",
   "execution_count": 1,
   "id": "8d0f7b89",
   "metadata": {},
   "outputs": [],
   "source": [
    "import os"
   ]
  },
  {
   "cell_type": "code",
   "execution_count": 3,
   "id": "ff3e394f",
   "metadata": {},
   "outputs": [],
   "source": [
    "folder = '/home/zhengyang/data/DE/07202021/1st-drop-tracking/'\n",
    "sfL = next(os.walk(folder))[1]"
   ]
  },
  {
   "cell_type": "code",
   "execution_count": 5,
   "id": "b9472412",
   "metadata": {},
   "outputs": [
    {
     "name": "stdout",
     "output_type": "stream",
     "text": [
      "python extractImages.py /home/zhengyang/data/DE/07202021/1st-drop-tracking/2021-07-20_16h47m59s &\n",
      "python extractImages.py /home/zhengyang/data/DE/07202021/1st-drop-tracking/2021-07-20_16h50m22s &\n",
      "python extractImages.py /home/zhengyang/data/DE/07202021/1st-drop-tracking/2021-07-20_16h44m58s &\n",
      "python extractImages.py /home/zhengyang/data/DE/07202021/1st-drop-tracking/2021-07-20_16h35m47s &\n",
      "python extractImages.py /home/zhengyang/data/DE/07202021/1st-drop-tracking/2021-07-20_16h34m28s &\n",
      "python extractImages.py /home/zhengyang/data/DE/07202021/1st-drop-tracking/2021-07-20_16h31m06s &\n",
      "python extractImages.py /home/zhengyang/data/DE/07202021/1st-drop-tracking/2021-07-20_16h28m21s-m4 &\n",
      "python extractImages.py /home/zhengyang/data/DE/07202021/1st-drop-tracking/2021-07-20_16h25m35s-m2 &\n",
      "python extractImages.py /home/zhengyang/data/DE/07202021/1st-drop-tracking/2021-07-20_16h27m01s-m3 &\n",
      "python extractImages.py /home/zhengyang/data/DE/07202021/1st-drop-tracking/2021-07-20_16h29m43s-m5 &\n",
      "python extractImages.py /home/zhengyang/data/DE/07202021/1st-drop-tracking/2021-07-20_16h32m59s &\n",
      "python extractImages.py /home/zhengyang/data/DE/07202021/1st-drop-tracking/2021-07-20_16h24m06s-mttry &\n",
      "python extractImages.py /home/zhengyang/data/DE/07202021/1st-drop-tracking/2021-07-20_16h43m54s &\n",
      "python extractImages.py /home/zhengyang/data/DE/07202021/1st-drop-tracking/2021-07-20_16h51m25s &\n",
      "python extractImages.py /home/zhengyang/data/DE/07202021/1st-drop-tracking/2021-07-20_16h42m46s &\n"
     ]
    }
   ],
   "source": [
    "for s in sfL:\n",
    "    print('python extractImages.py ' + os.path.join(folder, s) + ' &')"
   ]
  }
 ],
 "metadata": {
  "kernelspec": {
   "display_name": "Python 3",
   "language": "python",
   "name": "python3"
  },
  "language_info": {
   "codemirror_mode": {
    "name": "ipython",
    "version": 3
   },
   "file_extension": ".py",
   "mimetype": "text/x-python",
   "name": "python",
   "nbconvert_exporter": "python",
   "pygments_lexer": "ipython3",
   "version": "3.8.10"
  }
 },
 "nbformat": 4,
 "nbformat_minor": 5
}
