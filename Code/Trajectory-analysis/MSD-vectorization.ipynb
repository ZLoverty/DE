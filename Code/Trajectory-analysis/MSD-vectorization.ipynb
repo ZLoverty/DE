{
 "cells": [
  {
   "cell_type": "markdown",
   "id": "21d142ef",
   "metadata": {},
   "source": [
    "# MSD vectorization\n",
    "\n",
    "This notebook tries to vectorize the MSD calculation from Cristian, to speed up the analysis."
   ]
  },
  {
   "cell_type": "code",
   "execution_count": 31,
   "id": "891a7395",
   "metadata": {},
   "outputs": [],
   "source": [
    "import numpy as np\n",
    "import matplotlib.pyplot as plt\n",
    "import trackpy as tp\n",
    "import pandas as pd"
   ]
  },
  {
   "cell_type": "markdown",
   "id": "a1504f42",
   "metadata": {},
   "source": [
    "## 1 load trajectory data"
   ]
  },
  {
   "cell_type": "code",
   "execution_count": 108,
   "id": "293fc1de",
   "metadata": {},
   "outputs": [],
   "source": [
    "# load a trajectory\n",
    "traj_r = pd.read_csv(r'C:\\Users\\liuzy\\Dropbox\\Fluctuation Bacterial Droplets\\Data\\exp1.csv', names=['x', 'y', 'z'])\n",
    "traj = np.array(traj_r)\n",
    "# traj = np.random.rand(2000, 3)"
   ]
  },
  {
   "cell_type": "code",
   "execution_count": 109,
   "id": "ab3660cd",
   "metadata": {},
   "outputs": [
    {
     "data": {
      "text/plain": [
       "[<matplotlib.lines.Line2D at 0x1939249ecd0>]"
      ]
     },
     "execution_count": 109,
     "metadata": {},
     "output_type": "execute_result"
    },
    {
     "data": {
      "image/png": "[encoded data removed]",
      "text/plain": [
       "<Figure size 432x288 with 1 Axes>"
      ]
     },
     "metadata": {
      "needs_background": "light"
     },
     "output_type": "display_data"
    }
   ],
   "source": [
    "plt.plot(traj[:50, 0])\n",
    "plt.plot(traj[:50, 1])\n",
    "plt.plot(traj[:50, 2])"
   ]
  },
  {
   "cell_type": "markdown",
   "id": "75ff74f4",
   "metadata": {},
   "source": [
    "## 2 Trackpy.msd"
   ]
  },
  {
   "cell_type": "code",
   "execution_count": 114,
   "id": "c7f7134d",
   "metadata": {},
   "outputs": [],
   "source": [
    "## trackpy\n",
    "t = traj_r.assign(particle=0, frame=traj_r.index)\n",
    "msd = tp.msd(t, mpp=1, fps=1, pos_columns=['x', 'y', 'z'], max_lagtime=len(t))"
   ]
  },
  {
   "cell_type": "markdown",
   "id": "9bd200a1",
   "metadata": {},
   "source": [
    "## 3 Nested for loops"
   ]
  },
  {
   "cell_type": "code",
   "execution_count": 111,
   "id": "e79bd7b5",
   "metadata": {},
   "outputs": [
    {
     "name": "stdout",
     "output_type": "stream",
     "text": [
      "Wall time: 5min 38s\n"
     ]
    }
   ],
   "source": [
    "%%time \n",
    "## brutal method\n",
    "msd_x = []\n",
    "msd_y = []\n",
    "msd_z = []\n",
    "for i in range(0, len(traj[:, 0])):\n",
    "    sum_x = 0\n",
    "    sum_y = 0\n",
    "    sum_z = 0\n",
    "    n = len(traj[:, 0]) - i\n",
    "    for j in range(0, n):\n",
    "        sum_x += (traj[i+j, 0] - traj[j, 0]) ** 2\n",
    "        sum_y += (traj[i+j, 1] - traj[j, 1]) ** 2\n",
    "        sum_z += (traj[i+j, 2] - traj[j, 2]) ** 2\n",
    "    msd_x.append(sum_x/n)\n",
    "    msd_y.append(sum_y/n)\n",
    "    msd_z.append(sum_z/n)"
   ]
  },
  {
   "cell_type": "markdown",
   "id": "3c6468b2",
   "metadata": {},
   "source": [
    "## 4 Vectorized"
   ]
  },
  {
   "cell_type": "code",
   "execution_count": 112,
   "id": "28609dd6",
   "metadata": {},
   "outputs": [
    {
     "name": "stdout",
     "output_type": "stream",
     "text": [
      "Wall time: 4.07 s\n"
     ]
    }
   ],
   "source": [
    "%%time\n",
    "## vectorized code\n",
    "msd_list = []\n",
    "for i in range(0, len(traj[:, 0])):\n",
    "    shifted = np.roll(traj, i, axis=0)\n",
    "    shifted[:i, :] = np.nan\n",
    "    diff = traj - shifted\n",
    "    diff_msq = np.nanmean((diff ** 2), axis=0)\n",
    "    msd_list.append(diff_msq)\n",
    "\n",
    "msd_a = np.array(msd_list)"
   ]
  },
  {
   "cell_type": "code",
   "execution_count": 115,
   "id": "4db59454",
   "metadata": {},
   "outputs": [
    {
     "data": {
      "text/plain": [
       "[]"
      ]
     },
     "execution_count": 115,
     "metadata": {},
     "output_type": "execute_result"
    },
    {
     "data": {
      "image/png": "[encoded data removed]",
      "text/plain": [
       "<Figure size 432x288 with 1 Axes>"
      ]
     },
     "metadata": {
      "needs_background": "light"
     },
     "output_type": "display_data"
    }
   ],
   "source": [
    "plt.plot(msd_x, marker='o', ls='')\n",
    "plt.plot(msd['<x^2>'], marker='x', ls='')\n",
    "plt.plot(msd_a[:, 0], marker='^', ls='')\n",
    "plt.loglog()"
   ]
  },
  {
   "cell_type": "markdown",
   "id": "89bc50d1",
   "metadata": {},
   "source": [
    "```matlab\n",
    "function [MSD_X,MSD_Y,MSD_Z,MSD,t_MSD] = msd_Gotaxyz(xc,yc,zc,fps)\n",
    "\n",
    "X = xc;\n",
    "Y = yc;\n",
    "Z=zc;\n",
    "%   MSD_X =zeros(1,length(X)/10);\n",
    "%   MSD_Y = zeros(1,length(X)/10);\n",
    "%   MSD_Z = zeros(1,length(X)/10);\n",
    "%   MSD=zeros(1,length(X)/10);\n",
    "for i = 1: length(X)/10%length(X)-1 % Recorro desde el primero hasta el penúltimo, para tener una diferencia. (Último con último == 0)  Para grabaciones cerca dejar en length(X)/10\n",
    "\n",
    "    Suma_X = 0;\n",
    "    Suma_Y = 0;\n",
    "    Suma_Z=0;\n",
    "    for j = 1:length(X)-i % Me voy separando de l en l. Si estoy parado en el elemento i, la máxima separación que me lleva al último elemento es length(X)-i\n",
    "    \n",
    "        Suma_X = Suma_X + (X(i+j) -X(j))^2; \n",
    "        Suma_Y = Suma_Y + (Y(i+j) -Y(j))^2; \n",
    "        Suma_Z = Suma_Z + (Z(i+j) -Z(j))^2; \n",
    "\n",
    "    end\n",
    "    \n",
    "    MSD_X(i) = Suma_X/(length(X)-i);\n",
    "    MSD_Y(i) = Suma_Y/(length(X)-i);\n",
    "    MSD_Z(i) = Suma_Z/(length(X)-i);\n",
    "\n",
    "    MSD(i) = (Suma_X+Suma_Y+Suma_Z)/(length(X)-i);\n",
    "    \n",
    "end\n",
    "\n",
    "% Para analisis gotas cerca volver a ponerlo\n",
    " MSD_X = [0,MSD_X] ;\n",
    " MSD_Y = [0,MSD_Y];\n",
    " MSD_Z=[0,MSD_Z];\n",
    " MSD = [0,MSD];\n",
    "\n",
    "if length(fps) == 1\n",
    "\n",
    "%linspace(0,length(X),length(X))/fps;\n",
    "%t_MSD=(0:length(MSD)-1)/fps;\n",
    "t_MSD=(0:length(MSD)-1)/fps;\n",
    "\n",
    "else\n",
    "    \n",
    "%t_MSD=(0:length(MSD)-1)/mean(fps);\n",
    "t_MSD=(0:length(MSD)-1)/mean(fps);\n",
    "    \n",
    "end\n",
    "\n",
    "\n",
    "```"
   ]
  }
 ],
 "metadata": {
  "kernelspec": {
   "display_name": "Python 3",
   "language": "python",
   "name": "python3"
  },
  "language_info": {
   "codemirror_mode": {
    "name": "ipython",
    "version": 3
   },
   "file_extension": ".py",
   "mimetype": "text/x-python",
   "name": "python",
   "nbconvert_exporter": "python",
   "pygments_lexer": "ipython3",
   "version": "3.8.5"
  }
 },
 "nbformat": 4,
 "nbformat_minor": 5
}
