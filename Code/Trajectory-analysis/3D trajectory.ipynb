{
 "cells": [
  {
   "cell_type": "markdown",
   "id": "968fecdf",
   "metadata": {},
   "source": [
    "# 3D trajectory\n",
    "\n",
    "In this notebook, we construct the 3D trajectories of inner droplets by combining the X-Y plane tracking results and the simultaneous stage positions."
   ]
  },
  {
   "cell_type": "code",
   "execution_count": 3,
   "id": "c054d57b",
   "metadata": {},
   "outputs": [],
   "source": [
    "import numpy as np\n",
    "import pandas as pd\n",
    "import matplotlib.pyplot as plt\n",
    "from mpl_toolkits.mplot3d import Axes3D\n",
    "import os\n",
    "from skimage import io\n",
    "from IPython.display import clear_output\n",
    "import dufte\n",
    "plt.style.use(dufte.style)\n",
    "from fit_circle_utils import fit_sphere\n",
    "from myImageLib import bestcolor\n",
    "from utils import *\n",
    "from corrLib import readdata"
   ]
  },
  {
   "cell_type": "markdown",
   "id": "f02753f2",
   "metadata": {},
   "source": [
    "## 1 Generate trajectories \n",
    "\n",
    "### 1.1 Construct xyz-traj\n",
    "\n",
    "- load xy from traj.csv and z from StagePosition.txt"
   ]
  },
  {
   "cell_type": "code",
   "execution_count": 46,
   "id": "33158d93",
   "metadata": {},
   "outputs": [],
   "source": [
    "data_folder = '/home/zhengyang/data/DE'\n",
    "date = '07202021'\n",
    "subfolder = '1st-drop-tracking/2021-07-20_16h50m22s'\n",
    "\n",
    "folder = os.path.join(data_folder, date, subfolder)\n",
    "stagePosition = pd.read_csv(os.path.join(folder, 'StagePosition.txt'), delimiter='\\t',\n",
    "                            names=['name', 'x', 'y', 'z', 'UK1', 'UK2'])\n",
    "\n",
    "xyPosition = pd.read_csv(os.path.join(folder, 'crop_HoughCircles', 'traj.csv'))\n",
    "\n",
    "xyPosition = xyPosition.set_index('filename')\n",
    "stagePosition = stagePosition.set_index('name')"
   ]
  },
  {
   "cell_type": "markdown",
   "id": "ce3c0128",
   "metadata": {},
   "source": [
    "- convert xy from pixel to um and combine xyz"
   ]
  },
  {
   "cell_type": "code",
   "execution_count": 47,
   "id": "ee80e0b1",
   "metadata": {},
   "outputs": [],
   "source": [
    "mpp = 0.1\n",
    "ind = intersection(xyPosition.index, stagePosition.index) # find overlap frames\n",
    "xyPosition = xyPosition.loc[ind] # slice xy data\n",
    "xyPosition['x'] *= mpp # apply mpp\n",
    "xyPosition['y'] *= mpp # apply mpp\n",
    "xyPosition = xyPosition.assign(z=stagePosition['z'].loc[ind])  # concatenate z data to xy data"
   ]
  },
  {
   "cell_type": "markdown",
   "id": "00fcf011",
   "metadata": {},
   "source": [
    "- save xyz to file"
   ]
  },
  {
   "cell_type": "code",
   "execution_count": 48,
   "id": "a3d9841c",
   "metadata": {},
   "outputs": [],
   "source": [
    "xyz_traj = xyPosition[['x', 'y', 'z']]\n",
    "xyz_traj.to_csv(os.path.join(folder, 'crop_HoughCircles', 'xyz-traj.csv'), float_format='%.1f')"
   ]
  },
  {
   "cell_type": "markdown",
   "id": "07a32b39",
   "metadata": {},
   "source": [
    "#### Batch"
   ]
  },
  {
   "cell_type": "code",
   "execution_count": 29,
   "id": "92ab6ac7",
   "metadata": {
    "scrolled": false
   },
   "outputs": [
    {
     "data": {
      "text/html": [
       "<div>\n",
       "<style scoped>\n",
       "    .dataframe tbody tr th:only-of-type {\n",
       "        vertical-align: middle;\n",
       "    }\n",
       "\n",
       "    .dataframe tbody tr th {\n",
       "        vertical-align: top;\n",
       "    }\n",
       "\n",
       "    .dataframe thead tr th {\n",
       "        text-align: left;\n",
       "    }\n",
       "</style>\n",
       "<table border=\"1\" class=\"dataframe\">\n",
       "  <thead>\n",
       "    <tr>\n",
       "      <th></th>\n",
       "      <th colspan=\"5\" halign=\"left\">params</th>\n",
       "      <th colspan=\"7\" halign=\"left\">analysis</th>\n",
       "      <th colspan=\"3\" halign=\"left\">Visual</th>\n",
       "    </tr>\n",
       "    <tr>\n",
       "      <th></th>\n",
       "      <th>Date</th>\n",
       "      <th>Subfolder</th>\n",
       "      <th>BC</th>\n",
       "      <th>MPP</th>\n",
       "      <th>FPS</th>\n",
       "      <th>ID</th>\n",
       "      <th>OD</th>\n",
       "      <th>a</th>\n",
       "      <th>b</th>\n",
       "      <th>c</th>\n",
       "      <th>2D-trajectory</th>\n",
       "      <th>3D-trajectory</th>\n",
       "      <th>2D-image</th>\n",
       "      <th>3D-projection</th>\n",
       "      <th>3D-outRef</th>\n",
       "    </tr>\n",
       "  </thead>\n",
       "  <tbody>\n",
       "    <tr>\n",
       "      <th>8</th>\n",
       "      <td>7202021</td>\n",
       "      <td>1st-drop-tracking/2021-07-20_16h34m28s</td>\n",
       "      <td>32</td>\n",
       "      <td>0.1</td>\n",
       "      <td>30</td>\n",
       "      <td>8.7</td>\n",
       "      <td>67.6</td>\n",
       "      <td>51.5</td>\n",
       "      <td>51.3</td>\n",
       "      <td>NaN</td>\n",
       "      <td>1.0</td>\n",
       "      <td>0.0</td>\n",
       "      <td>0.0</td>\n",
       "      <td>0.0</td>\n",
       "      <td>0.0</td>\n",
       "    </tr>\n",
       "    <tr>\n",
       "      <th>9</th>\n",
       "      <td>7202021</td>\n",
       "      <td>1st-drop-tracking/2021-07-20_16h35m47s</td>\n",
       "      <td>32</td>\n",
       "      <td>0.1</td>\n",
       "      <td>30</td>\n",
       "      <td>8.9</td>\n",
       "      <td>65.1</td>\n",
       "      <td>52.2</td>\n",
       "      <td>51.4</td>\n",
       "      <td>NaN</td>\n",
       "      <td>1.0</td>\n",
       "      <td>0.0</td>\n",
       "      <td>0.0</td>\n",
       "      <td>0.0</td>\n",
       "      <td>0.0</td>\n",
       "    </tr>\n",
       "    <tr>\n",
       "      <th>11</th>\n",
       "      <td>7202021</td>\n",
       "      <td>1st-drop-tracking/2021-07-20_16h43m54s</td>\n",
       "      <td>32</td>\n",
       "      <td>0.1</td>\n",
       "      <td>30</td>\n",
       "      <td>8.9</td>\n",
       "      <td>65.8</td>\n",
       "      <td>52.1</td>\n",
       "      <td>51.6</td>\n",
       "      <td>NaN</td>\n",
       "      <td>1.0</td>\n",
       "      <td>0.0</td>\n",
       "      <td>0.0</td>\n",
       "      <td>0.0</td>\n",
       "      <td>0.0</td>\n",
       "    </tr>\n",
       "    <tr>\n",
       "      <th>12</th>\n",
       "      <td>7202021</td>\n",
       "      <td>1st-drop-tracking/2021-07-20_16h44m58s</td>\n",
       "      <td>32</td>\n",
       "      <td>0.1</td>\n",
       "      <td>30</td>\n",
       "      <td>9.2</td>\n",
       "      <td>66.4</td>\n",
       "      <td>52.4</td>\n",
       "      <td>50.4</td>\n",
       "      <td>NaN</td>\n",
       "      <td>1.0</td>\n",
       "      <td>0.0</td>\n",
       "      <td>0.0</td>\n",
       "      <td>0.0</td>\n",
       "      <td>0.0</td>\n",
       "    </tr>\n",
       "    <tr>\n",
       "      <th>13</th>\n",
       "      <td>7202021</td>\n",
       "      <td>1st-drop-tracking/2021-07-20_16h47m59s</td>\n",
       "      <td>32</td>\n",
       "      <td>0.1</td>\n",
       "      <td>30</td>\n",
       "      <td>9.0</td>\n",
       "      <td>68.9</td>\n",
       "      <td>52.5</td>\n",
       "      <td>51.8</td>\n",
       "      <td>NaN</td>\n",
       "      <td>1.0</td>\n",
       "      <td>0.0</td>\n",
       "      <td>0.0</td>\n",
       "      <td>0.0</td>\n",
       "      <td>0.0</td>\n",
       "    </tr>\n",
       "    <tr>\n",
       "      <th>14</th>\n",
       "      <td>7202021</td>\n",
       "      <td>1st-drop-tracking/2021-07-20_16h50m22s</td>\n",
       "      <td>32</td>\n",
       "      <td>0.1</td>\n",
       "      <td>30</td>\n",
       "      <td>9.6</td>\n",
       "      <td>70.8</td>\n",
       "      <td>51.3</td>\n",
       "      <td>51.2</td>\n",
       "      <td>NaN</td>\n",
       "      <td>1.0</td>\n",
       "      <td>0.0</td>\n",
       "      <td>0.0</td>\n",
       "      <td>0.0</td>\n",
       "      <td>0.0</td>\n",
       "    </tr>\n",
       "  </tbody>\n",
       "</table>\n",
       "</div>"
      ],
      "text/plain": [
       "     params                                                      analysis  \\\n",
       "       Date                               Subfolder  BC  MPP FPS       ID   \n",
       "8   7202021  1st-drop-tracking/2021-07-20_16h34m28s  32  0.1  30      8.7   \n",
       "9   7202021  1st-drop-tracking/2021-07-20_16h35m47s  32  0.1  30      8.9   \n",
       "11  7202021  1st-drop-tracking/2021-07-20_16h43m54s  32  0.1  30      8.9   \n",
       "12  7202021  1st-drop-tracking/2021-07-20_16h44m58s  32  0.1  30      9.2   \n",
       "13  7202021  1st-drop-tracking/2021-07-20_16h47m59s  32  0.1  30      9.0   \n",
       "14  7202021  1st-drop-tracking/2021-07-20_16h50m22s  32  0.1  30      9.6   \n",
       "\n",
       "                                                       Visual                \\\n",
       "      OD     a     b   c 2D-trajectory 3D-trajectory 2D-image 3D-projection   \n",
       "8   67.6  51.5  51.3 NaN           1.0           0.0      0.0           0.0   \n",
       "9   65.1  52.2  51.4 NaN           1.0           0.0      0.0           0.0   \n",
       "11  65.8  52.1  51.6 NaN           1.0           0.0      0.0           0.0   \n",
       "12  66.4  52.4  50.4 NaN           1.0           0.0      0.0           0.0   \n",
       "13  68.9  52.5  51.8 NaN           1.0           0.0      0.0           0.0   \n",
       "14  70.8  51.3  51.2 NaN           1.0           0.0      0.0           0.0   \n",
       "\n",
       "              \n",
       "   3D-outRef  \n",
       "8        0.0  \n",
       "9        0.0  \n",
       "11       0.0  \n",
       "12       0.0  \n",
       "13       0.0  \n",
       "14       0.0  "
      ]
     },
     "execution_count": 29,
     "metadata": {},
     "output_type": "execute_result"
    }
   ],
   "source": [
    "log = pd.read_csv(os.path.join('../../Data', 'main_log.csv'), header=[0,1])\n",
    "slog = log.loc[(log[('analysis', '2D-trajectory')]==1)&(log[('analysis', '3D-trajectory')]==0)]\n",
    "slog"
   ]
  },
  {
   "cell_type": "code",
   "execution_count": 30,
   "id": "a57b5250",
   "metadata": {},
   "outputs": [],
   "source": [
    "data_folder = '/home/zhengyang/data/DE'\n",
    "for num, i in slog.iterrows():    \n",
    "    date = '{:08d}'.format(i[('params', 'Date')])\n",
    "    subfolder = i[('params', 'Subfolder')]\n",
    "    folder = os.path.join(data_folder, date, subfolder)\n",
    "    mpp = float(i['params', 'MPP'])\n",
    "    if os.path.exists(os.path.join(folder, 'StagePosition.txt')) == True:\n",
    "        stagePosition = pd.read_csv(os.path.join(folder, 'StagePosition.txt'), delimiter='\\t',\n",
    "                                    names=['name', 'x', 'y', 'z', 'UK1', 'UK2'])\n",
    "    else:\n",
    "        continue\n",
    "    xyPosition = pd.read_csv(os.path.join(folder, 'crop_HoughCircles', 'traj.csv'))\n",
    "    xyPosition = xyPosition.set_index('filename')\n",
    "    stagePosition = stagePosition.set_index('name')\n",
    "\n",
    "    ind = intersection(xyPosition.index, stagePosition.index) # find overlap frames\n",
    "    xyPosition = xyPosition.loc[ind] # slice xy data\n",
    "    xyPosition['x'] *= mpp # apply mpp\n",
    "    xyPosition['y'] *= mpp # apply mpp\n",
    "    xyPosition = xyPosition.assign(z=stagePosition['z'].loc[ind])  # concatenate z data to xy data\n",
    "\n",
    "    xyz_traj = xyPosition[['x', 'y', 'z']]\n",
    "    xyz_traj.to_csv(os.path.join(folder, 'crop_HoughCircles', 'xyz-traj.csv'), float_format='%.1f')"
   ]
  },
  {
   "cell_type": "markdown",
   "id": "78fba26d",
   "metadata": {},
   "source": [
    "### 1.2 Spherical coordinates\n",
    "\n",
    "The inner droplets mostly slide on the spherical surfaces of outer droplets. This makes the motions of the inner droplets effectively 2D, and can be better described in spherical coordinates. Here, I convert the xyz data into (r, theta, phi)."
   ]
  },
  {
   "cell_type": "markdown",
   "id": "07870237",
   "metadata": {},
   "source": [
    "- determine outer drop z position"
   ]
  },
  {
   "cell_type": "code",
   "execution_count": 35,
   "id": "aa0cb595",
   "metadata": {},
   "outputs": [
    {
     "data": {
      "image/png": "[encoded data removed]",
      "text/plain": [
       "<Figure size 432x288 with 1 Axes>"
      ]
     },
     "metadata": {
      "needs_background": "dark"
     },
     "output_type": "display_data"
    }
   ],
   "source": [
    "traj = pd.read_csv(os.path.join(folder, 'crop_HoughCircles', 'xyz-traj.csv'))\n",
    "# read a, b, r, ri from main_log\n",
    "log = pd.read_csv('../../Data/main_log.csv', header=[0, 1])\n",
    "sublog = log.loc[log[('params', 'Subfolder')]==subfolder]\n",
    "r = sublog[('analysis', 'OD')]/2; ri = sublog[('analysis', 'ID')]/2\n",
    "a = sublog[('analysis', 'a')]; b = sublog[('analysis', 'b')]\n",
    "\n",
    "c = fit_for_outer_drop_z(a, b, r, ri, traj)"
   ]
  },
  {
   "cell_type": "markdown",
   "id": "2e854380",
   "metadata": {},
   "source": [
    "- convert:\n",
    "    - $x, y, z$ -> $x_r, y_r, z_r$\n",
    "    - $R^2 = x_r^2 + y_r^2 + z_r^2$\n",
    "    - $\\theta = \\frac{y_r}{|y_r|}\\arctan\\frac{y_r}{x_r}$\n",
    "    - $\\phi = \\arctan\\frac{z_r}{\\sqrt{x_r^2+y_r^2}}$"
   ]
  },
  {
   "cell_type": "code",
   "execution_count": 29,
   "id": "6b282a48",
   "metadata": {},
   "outputs": [],
   "source": [
    "xr = traj['x'] - float(a)\n",
    "yr = traj['y'] - float(b)\n",
    "zr = traj['z'] - float(c)"
   ]
  },
  {
   "cell_type": "code",
   "execution_count": 30,
   "id": "5f9014e8",
   "metadata": {},
   "outputs": [],
   "source": [
    "R = (xr**2 + yr**2 + zr**2) ** 0.5\n",
    "theta = np.sign(yr) * np.arctan(yr/xr)\n",
    "phi = np.arctan(zr/(xr**2+yr**2)**0.5)"
   ]
  },
  {
   "cell_type": "code",
   "execution_count": 37,
   "id": "b2702346",
   "metadata": {},
   "outputs": [
    {
     "data": {
      "text/plain": [
       "Text(0, 0.5, '$\\\\theta$, $\\\\phi$')"
      ]
     },
     "execution_count": 37,
     "metadata": {},
     "output_type": "execute_result"
    },
    {
     "data": {
      "image/png": "[encoded data removed]",
      "text/plain": [
       "<Figure size 640x480 with 2 Axes>"
      ]
     },
     "metadata": {},
     "output_type": "display_data"
    }
   ],
   "source": [
    "plt.style.use('default')\n",
    "fig, ax = plt.subplots()\n",
    "ax.plot(R, label='r')\n",
    "ax.set_ylim([0, 40])\n",
    "ax.set_xlabel('frame')\n",
    "ax.set_ylabel('r [um]')\n",
    "ax1 = ax.twinx()\n",
    "ax1.plot(theta, color=bestcolor(1))\n",
    "ax1.plot(phi, color=bestcolor(2))\n",
    "ax1.set_ylabel('$\\\\theta$, $\\phi$')"
   ]
  },
  {
   "cell_type": "markdown",
   "id": "79e1e880",
   "metadata": {},
   "source": [
    "## 2 Visualize the trajectory "
   ]
  },
  {
   "cell_type": "code",
   "execution_count": 49,
   "id": "e1fe391f",
   "metadata": {},
   "outputs": [],
   "source": [
    "xyz_traj = pd.read_csv(os.path.join(folder, 'crop_HoughCircles', 'xyz-traj.csv')).set_index('filename')\n",
    "mpp = 0.1 # microns per pixel"
   ]
  },
  {
   "cell_type": "markdown",
   "id": "4a6129c9",
   "metadata": {},
   "source": [
    "### 2.1 In 2D (2d-image.jpg)"
   ]
  },
  {
   "cell_type": "code",
   "execution_count": 50,
   "id": "09b75970",
   "metadata": {},
   "outputs": [],
   "source": [
    "image_folder = os.path.join(folder, 'images')\n",
    "img = io.imread(os.path.join(image_folder, '{:08d}.tif'.format(xyz_traj.index[-1])))\n",
    "traj = pd.read_csv(os.path.join(folder, 'crop_HoughCircles', 'xyz-traj.csv')) / 0.1\n",
    "plot_traj_overlay(traj, img)\n",
    "fig.savefig(os.path.join(folder, 'crop_HoughCircles', '2d-image.jpg'))"
   ]
  },
  {
   "cell_type": "markdown",
   "id": "0b6b4273",
   "metadata": {},
   "source": [
    "#### batch"
   ]
  },
  {
   "cell_type": "code",
   "execution_count": 45,
   "id": "8ae3be89",
   "metadata": {},
   "outputs": [
    {
     "data": {
      "text/html": [
       "<div>\n",
       "<style scoped>\n",
       "    .dataframe tbody tr th:only-of-type {\n",
       "        vertical-align: middle;\n",
       "    }\n",
       "\n",
       "    .dataframe tbody tr th {\n",
       "        vertical-align: top;\n",
       "    }\n",
       "\n",
       "    .dataframe thead tr th {\n",
       "        text-align: left;\n",
       "    }\n",
       "</style>\n",
       "<table border=\"1\" class=\"dataframe\">\n",
       "  <thead>\n",
       "    <tr>\n",
       "      <th></th>\n",
       "      <th colspan=\"5\" halign=\"left\">params</th>\n",
       "      <th colspan=\"7\" halign=\"left\">analysis</th>\n",
       "      <th colspan=\"3\" halign=\"left\">Visual</th>\n",
       "    </tr>\n",
       "    <tr>\n",
       "      <th></th>\n",
       "      <th>Date</th>\n",
       "      <th>Subfolder</th>\n",
       "      <th>BC</th>\n",
       "      <th>MPP</th>\n",
       "      <th>FPS</th>\n",
       "      <th>ID</th>\n",
       "      <th>OD</th>\n",
       "      <th>a</th>\n",
       "      <th>b</th>\n",
       "      <th>c</th>\n",
       "      <th>2D-trajectory</th>\n",
       "      <th>3D-trajectory</th>\n",
       "      <th>2D-image</th>\n",
       "      <th>3D-projection</th>\n",
       "      <th>3D-outRef</th>\n",
       "    </tr>\n",
       "  </thead>\n",
       "  <tbody>\n",
       "  </tbody>\n",
       "</table>\n",
       "</div>"
      ],
      "text/plain": [
       "Empty DataFrame\n",
       "Columns: [(params, Date), (params, Subfolder), (params, BC), (params, MPP), (params, FPS), (analysis, ID), (analysis, OD), (analysis, a), (analysis, b), (analysis, c), (analysis, 2D-trajectory), (analysis, 3D-trajectory), (Visual, 2D-image), (Visual, 3D-projection), (Visual, 3D-outRef)]\n",
       "Index: []"
      ]
     },
     "execution_count": 45,
     "metadata": {},
     "output_type": "execute_result"
    }
   ],
   "source": [
    "log = pd.read_csv(os.path.join('../../Data', 'main_log.csv'), header=[0,1])\n",
    "slog = log.loc[(log[('analysis', '3D-trajectory')]==1)&(log[('Visual', '2D-image')]==0)]\n",
    "slog"
   ]
  },
  {
   "cell_type": "code",
   "execution_count": 43,
   "id": "7669cc58",
   "metadata": {},
   "outputs": [],
   "source": [
    "for num, i in slog.iterrows():\n",
    "    date = '{:08d}'.format(i[('params', 'Date')])\n",
    "    subfolder = i[('params', 'Subfolder')]\n",
    "    folder = os.path.join(data_folder, date, subfolder)\n",
    "    \n",
    "    xyz_traj = pd.read_csv(os.path.join(folder, 'crop_HoughCircles', 'xyz-traj.csv')).set_index('filename')\n",
    "    image_folder = os.path.join(folder, 'images')\n",
    "    img = io.imread(os.path.join(image_folder, '{:08d}.tif'.format(xyz_traj.index[-1])))    \n",
    "    mpp = float(i['params', 'MPP'])\n",
    "    \n",
    "    fig = plot_traj_overlay(xyz_traj/mpp, img)\n",
    "    fig.savefig(os.path.join(folder, 'crop_HoughCircles', '2d-image.jpg'))\n",
    "    plt.close()"
   ]
  },
  {
   "cell_type": "markdown",
   "id": "6838f9f9",
   "metadata": {},
   "source": [
    "### 2.2 In 3D"
   ]
  },
  {
   "cell_type": "code",
   "execution_count": 48,
   "id": "bc231bdc",
   "metadata": {},
   "outputs": [
    {
     "data": {
      "text/plain": [
       "(0.0, 52.690000000000005)"
      ]
     },
     "execution_count": 48,
     "metadata": {},
     "output_type": "execute_result"
    },
    {
     "data": {
      "image/png": "[encoded data removed]",
      "text/plain": [
       "<Figure size 300x200 with 1 Axes>"
      ]
     },
     "metadata": {
      "needs_background": "dark"
     },
     "output_type": "display_data"
    }
   ],
   "source": [
    "# draw projections\n",
    "\n",
    "fig = plt.figure(dpi=50)\n",
    "ax = fig.add_subplot(111, projection='3d')\n",
    "ax.scatter(xyz_traj.x, xyz_traj.y, xyz_traj.z, \n",
    "           s=1)\n",
    "ax.scatter(xyz_traj.x, xyz_traj.y, 0, \n",
    "       s=0.5, alpha=0.2)\n",
    "ax.scatter(xyz_traj.x, 0, xyz_traj.z, \n",
    "       s=0.5, alpha=0.2)\n",
    "ax.scatter(0, xyz_traj.y, xyz_traj.z, \n",
    "       s=0.5, alpha=0.2)\n",
    "\n",
    "ax.set_xlim((0, img.shape[0]*mpp))\n",
    "ax.set_ylim((img.shape[1]*mpp, 0))\n",
    "ax.set_zlim((0, 1.1*xyz_traj.z.max()))"
   ]
  },
  {
   "cell_type": "markdown",
   "id": "e8825088",
   "metadata": {},
   "source": [
    "## 3 3D trajectory animation "
   ]
  },
  {
   "cell_type": "markdown",
   "id": "a8763842",
   "metadata": {},
   "source": [
    "### 3.1 Fixed view, with projections (3d-traj-animation.avi)"
   ]
  },
  {
   "cell_type": "markdown",
   "id": "fdc66cab",
   "metadata": {},
   "source": [
    "![3d traj projection demo](demo/3d-traj-projection-demo.gif)"
   ]
  },
  {
   "cell_type": "code",
   "execution_count": 51,
   "id": "9e31b64e",
   "metadata": {},
   "outputs": [
    {
     "name": "stdout",
     "output_type": "stream",
     "text": [
      "1800/1806, 99.67%\n"
     ]
    }
   ],
   "source": [
    "# trajectory animation and video\n",
    "mpp = 0.1 # microns per pixel\n",
    "interval = 10 # plot skip\n",
    "save_folder = os.path.join(folder, 'crop_HoughCircles', '3d-traj-animation')\n",
    "image_folder = os.path.join(folder, 'images')\n",
    "if os.path.exists(save_folder) == False:\n",
    "    os.makedirs(save_folder)\n",
    "\n",
    "for i in range(len(xyPosition)):\n",
    "    if i % interval != 0:\n",
    "        continue\n",
    "    print('{0:d}/{1:d}, {2:.2f}%'.format(i, len(xyPosition), i/len(xyPosition)*100))\n",
    "    clear_output(wait=True)\n",
    "    xyPosition1 = xyz_traj[:i+1]\n",
    "    zeros = np.zeros(len(xyPosition1))\n",
    "    fig = plt.figure(figsize=(4, 2), dpi=150)\n",
    "    ax = fig.add_axes([0,0,0.5,1], projection='3d')\n",
    "    ax.plot(xyPosition1.x, xyPosition1.y, xyPosition1.z)\n",
    "\n",
    "    ax.plot(xyPosition1.x, xyPosition1.y, zeros, ls=':')\n",
    "    ax.plot(xyPosition1.x, zeros, xyPosition1.z, ls=':')\n",
    "    ax.plot(zeros, xyPosition1.y, xyPosition1.z, ls=':')\n",
    "    \n",
    "    img = io.imread(os.path.join(image_folder, '{:08d}.tif'.format(xyPosition1.index[-1])))\n",
    "    \n",
    "    # determine axis limits automatically\n",
    "    ax.set_xlim((0, img.shape[0]*mpp))\n",
    "    ax.set_ylim((img.shape[1]*mpp, 0))\n",
    "    ax.set_zlim((0, 1.1*xyPosition1.z.max()))\n",
    "    \n",
    "    ax2 = fig.add_axes([0.5,0,0.5,1])    \n",
    "    ax2.imshow(img, cmap='gray')\n",
    "    ax2.plot(xyPosition1.x.iloc[-1]/mpp, xyPosition1.iloc[-1].y/mpp, \n",
    "             mec='red', ls='', marker='o', mfc=(0,0,0,0), markersize=11)\n",
    "    ax2.axis('off')\n",
    "    fig.savefig(os.path.join(save_folder, '{:08d}.jpg'.format(xyPosition1.index[-1])))\n",
    "    plt.close()"
   ]
  },
  {
   "cell_type": "markdown",
   "id": "09f943f3",
   "metadata": {},
   "source": [
    "### 3.2 Rotating view, reference outer droplet, no projections (3d-traj-RVRef.avi)\n",
    "\n",
    "Show the relative position between inner and outer droplets. "
   ]
  },
  {
   "cell_type": "markdown",
   "id": "abdd448d",
   "metadata": {},
   "source": [
    "![outer ref demo](demo/outer-ref-demo.gif)"
   ]
  },
  {
   "cell_type": "markdown",
   "id": "44da7a1b",
   "metadata": {},
   "source": [
    "#### 3.2.1 Determine the position of outer droplet\n",
    "- Measure a, b and r from image, find c which gives least deviation from surface (so far the best) \n"
   ]
  },
  {
   "cell_type": "code",
   "execution_count": 29,
   "id": "ed25f30a",
   "metadata": {},
   "outputs": [
    {
     "data": {
      "image/png": "[encoded data removed]",
      "text/plain": [
       "<Figure size 432x288 with 1 Axes>"
      ]
     },
     "metadata": {
      "needs_background": "dark"
     },
     "output_type": "display_data"
    }
   ],
   "source": [
    "traj = pd.read_csv(os.path.join(folder, 'crop_HoughCircles', 'xyz-traj.csv'))\n",
    "# read a, b, r, ri from main_log\n",
    "log = pd.read_csv('../../Data/main_log.csv', header=[0, 1])\n",
    "sublog = log.loc[log[('params', 'Subfolder')]==subfolder]\n",
    "r = sublog[('analysis', 'OD')]/2; ri = sublog[('analysis', 'ID')]/2\n",
    "a = sublog[('analysis', 'a')]; b = sublog[('analysis', 'b')]\n",
    "\n",
    "c = fit_for_outer_drop_z(a, b, r, ri, traj)"
   ]
  },
  {
   "cell_type": "markdown",
   "id": "2a500db8",
   "metadata": {},
   "source": [
    "#### 3.2.2 Rotation view, outer drop reference (3d-traj-RVRef.avi)\n",
    "\n",
    "<font color='red'> NOTE: run one of the cells in 3.2.1 to get p before running the cell below"
   ]
  },
  {
   "cell_type": "code",
   "execution_count": 30,
   "id": "59cd1795",
   "metadata": {},
   "outputs": [
    {
     "name": "stdout",
     "output_type": "stream",
     "text": [
      "1800/1805, 99.72%\n"
     ]
    }
   ],
   "source": [
    "save_folder = os.path.join(folder, 'crop_HoughCircles', '3d-traj-RVRef')\n",
    "if os.path.exists(save_folder) == False:\n",
    "    os.makedirs(save_folder)\n",
    "a = float(a); b = float(b); c = float(c); r = float(r)\n",
    "\n",
    "for n, i in traj.iterrows():\n",
    "    if n % 10 == 0:\n",
    "        print('{0:d}/{1:d}, {2:.2f}%'.format(n, len(traj), n/len(traj)*100))\n",
    "        fig = plt.figure(figsize=(3, 3), dpi=300)\n",
    "        ax = fig.add_subplot(111, projection='3d')\n",
    "        ax.set_xlim([a-r, a+r])\n",
    "        ax.set_ylim([b+r, b-r])        \n",
    "        ax.set_zlim([c-r, c+r])\n",
    "        u, v = np.mgrid[0:2*np.pi:20j, 0:np.pi:10j]\n",
    "        x = r*np.cos(u)*np.sin(v) + a\n",
    "        y = r*np.sin(u)*np.sin(v) + b\n",
    "        z = r*np.cos(v) + c\n",
    "        ax.plot_wireframe(x, y, z, color=(1, 0, 0, 0.3), lw=0.5, ls='--')\n",
    "        ax.axis('off')\n",
    "        ax.plot(traj.x[:n], traj.y[:n], traj.z[:n], color='black', lw=0.5, ls='-.')\n",
    "        ax.scatter(traj.x[n], traj.y[n], traj.z[n], s=20, marker='o', color=bestcolor(1))\n",
    "        ax.view_init(30, 360*n/len(traj))\n",
    "        fig.savefig(os.path.join(save_folder, '{:04d}.jpg'.format(n)))\n",
    "        plt.close()\n",
    "        clear_output(wait=True)"
   ]
  }
 ],
 "metadata": {
  "kernelspec": {
   "display_name": "Python 3",
   "language": "python",
   "name": "python3"
  },
  "language_info": {
   "codemirror_mode": {
    "name": "ipython",
    "version": 3
   },
   "file_extension": ".py",
   "mimetype": "text/x-python",
   "name": "python",
   "nbconvert_exporter": "python",
   "pygments_lexer": "ipython3",
   "version": "3.8.10"
  }
 },
 "nbformat": 4,
 "nbformat_minor": 5
}
