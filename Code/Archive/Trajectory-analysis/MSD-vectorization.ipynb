{
 "cells": [
  {
   "cell_type": "markdown",
   "id": "21d142ef",
   "metadata": {},
   "source": [
    "# MSD vectorization\n",
    "\n",
    "This notebook tries to vectorize the MSD calculation from Cristian, to speed up the analysis."
   ]
  },
  {
   "cell_type": "code",
   "execution_count": 1,
   "id": "891a7395",
   "metadata": {},
   "outputs": [],
   "source": [
    "import numpy as np\n",
    "import matplotlib.pyplot as plt\n",
    "import trackpy as tp\n",
    "import pandas as pd\n",
    "from numba import jit, cuda"
   ]
  },
  {
   "cell_type": "markdown",
   "id": "a1504f42",
   "metadata": {},
   "source": [
    "## 1 load trajectory data"
   ]
  },
  {
   "cell_type": "code",
   "execution_count": 11,
   "id": "293fc1de",
   "metadata": {},
   "outputs": [],
   "source": [
    "# load a trajectory\n",
    "traj_r = pd.read_csv('/home/zhengyang/Dropbox/Fluctuation Bacterial Droplets/Data/exp1.csv', names=['x', 'y', 'z'])\n",
    "traj = np.array(traj_r)\n",
    "# traj = np.random.rand(2000, 3)"
   ]
  },
  {
   "cell_type": "code",
   "execution_count": 3,
   "id": "ab3660cd",
   "metadata": {},
   "outputs": [
    {
     "data": {
      "text/plain": [
       "[<matplotlib.lines.Line2D at 0x7ff8899c8f70>]"
      ]
     },
     "execution_count": 3,
     "metadata": {},
     "output_type": "execute_result"
    },
    {
     "data": {
      "image/png": "[encoded data removed]",
      "text/plain": [
       "<Figure size 432x288 with 1 Axes>"
      ]
     },
     "metadata": {
      "needs_background": "light"
     },
     "output_type": "display_data"
    }
   ],
   "source": [
    "plt.plot(traj[:50, 0])\n",
    "plt.plot(traj[:50, 1])\n",
    "plt.plot(traj[:50, 2])"
   ]
  },
  {
   "cell_type": "code",
   "execution_count": 2,
   "id": "83c96bd6",
   "metadata": {},
   "outputs": [
    {
     "name": "stdout",
     "output_type": "stream",
     "text": [
      "CPU times: user 1.29 s, sys: 953 ms, total: 2.24 s\n",
      "Wall time: 2.26 s\n"
     ]
    }
   ],
   "source": [
    "%%time\n",
    "n = int(2e7)\n",
    "traj = pd.DataFrame({'x': np.random.rand(n), 'y': np.random.rand(n), 'z':np.random.rand(n), 'frame': np.arange(n), 'particle': np.zeros(n)})"
   ]
  },
  {
   "cell_type": "code",
   "execution_count": 14,
   "id": "4ad66199",
   "metadata": {},
   "outputs": [
    {
     "ename": "IndexError",
     "evalue": "only integers, slices (`:`), ellipsis (`...`), numpy.newaxis (`None`) and integer or boolean arrays are valid indices",
     "output_type": "error",
     "traceback": [
      "\u001b[0;31m---------------------------------------------------------------------------\u001b[0m",
      "\u001b[0;31mIndexError\u001b[0m                                Traceback (most recent call last)",
      "\u001b[0;32m<timed exec>\u001b[0m in \u001b[0;36m<module>\u001b[0;34m\u001b[0m\n",
      "\u001b[0;32m~/miniconda3/lib/python3.9/site-packages/trackpy/motion.py\u001b[0m in \u001b[0;36mmsd\u001b[0;34m(traj, mpp, fps, max_lagtime, detail, pos_columns)\u001b[0m\n\u001b[1;32m     38\u001b[0m     \u001b[0memsd\u001b[0m\u001b[0;34m\u001b[0m\u001b[0;34m\u001b[0m\u001b[0m\n\u001b[1;32m     39\u001b[0m     \"\"\"\n\u001b[0;32m---> 40\u001b[0;31m     \u001b[0;32mif\u001b[0m \u001b[0mtraj\u001b[0m\u001b[0;34m[\u001b[0m\u001b[0;34m'frame'\u001b[0m\u001b[0;34m]\u001b[0m\u001b[0;34m.\u001b[0m\u001b[0mmax\u001b[0m\u001b[0;34m(\u001b[0m\u001b[0;34m)\u001b[0m \u001b[0;34m-\u001b[0m \u001b[0mtraj\u001b[0m\u001b[0;34m[\u001b[0m\u001b[0;34m'frame'\u001b[0m\u001b[0;34m]\u001b[0m\u001b[0;34m.\u001b[0m\u001b[0mmin\u001b[0m\u001b[0;34m(\u001b[0m\u001b[0;34m)\u001b[0m \u001b[0;34m+\u001b[0m \u001b[0;36m1\u001b[0m \u001b[0;34m==\u001b[0m \u001b[0mlen\u001b[0m\u001b[0;34m(\u001b[0m\u001b[0mtraj\u001b[0m\u001b[0;34m)\u001b[0m\u001b[0;34m:\u001b[0m\u001b[0;34m\u001b[0m\u001b[0;34m\u001b[0m\u001b[0m\n\u001b[0m\u001b[1;32m     41\u001b[0m         \u001b[0;31m# no gaps: use fourier-transform algorithm\u001b[0m\u001b[0;34m\u001b[0m\u001b[0;34m\u001b[0m\u001b[0;34m\u001b[0m\u001b[0m\n\u001b[1;32m     42\u001b[0m         \u001b[0;32mreturn\u001b[0m \u001b[0m_msd_fft\u001b[0m\u001b[0;34m(\u001b[0m\u001b[0mtraj\u001b[0m\u001b[0;34m,\u001b[0m \u001b[0mmpp\u001b[0m\u001b[0;34m,\u001b[0m \u001b[0mfps\u001b[0m\u001b[0;34m,\u001b[0m \u001b[0mmax_lagtime\u001b[0m\u001b[0;34m,\u001b[0m \u001b[0mdetail\u001b[0m\u001b[0;34m,\u001b[0m \u001b[0mpos_columns\u001b[0m\u001b[0;34m)\u001b[0m\u001b[0;34m\u001b[0m\u001b[0;34m\u001b[0m\u001b[0m\n",
      "\u001b[0;31mIndexError\u001b[0m: only integers, slices (`:`), ellipsis (`...`), numpy.newaxis (`None`) and integer or boolean arrays are valid indices"
     ]
    }
   ],
   "source": [
    "%%time\n",
    "msd = tp.msd(traj, mpp=1, fps=1, pos_columns=['x', 'y', 'z'], max_lagtime=len(traj))"
   ]
  },
  {
   "cell_type": "markdown",
   "id": "75ff74f4",
   "metadata": {},
   "source": [
    "## 2 Trackpy.msd"
   ]
  },
  {
   "cell_type": "code",
   "execution_count": 12,
   "id": "c7f7134d",
   "metadata": {},
   "outputs": [
    {
     "name": "stdout",
     "output_type": "stream",
     "text": [
      "CPU times: user 79.9 ms, sys: 16 ms, total: 95.9 ms\n",
      "Wall time: 93.3 ms\n"
     ]
    }
   ],
   "source": [
    "%%time\n",
    "## trackpy\n",
    "t = traj_r.assign(particle=0, frame=traj_r.index)\n",
    "msd = tp.msd(t, mpp=1, fps=1, pos_columns=['x', 'y', 'z'], max_lagtime=len(t))"
   ]
  },
  {
   "cell_type": "markdown",
   "id": "d9ab74d0",
   "metadata": {},
   "source": [
    "**Comments:** `trackpy` uses an FFT algorithm to compute MSD which makes it fast than the gap algorithm by definition. The algorithm is described in [this paper](https://www.neutron-sciences.org/articles/sfn/pdf/2011/01/sfn201112010.pdf)."
   ]
  },
  {
   "cell_type": "markdown",
   "id": "9bd200a1",
   "metadata": {},
   "source": [
    "## 3 Nested for loops"
   ]
  },
  {
   "cell_type": "code",
   "execution_count": 24,
   "id": "11b32e9b",
   "metadata": {},
   "outputs": [],
   "source": [
    "def nested_loop_msd(traj):\n",
    "    msd_x = []\n",
    "    msd_y = []\n",
    "    msd_z = []\n",
    "    for i in range(0, len(traj[:, 0])):\n",
    "        sum_x = 0\n",
    "        sum_y = 0\n",
    "        sum_z = 0\n",
    "        n = len(traj[:, 0]) - i\n",
    "        for j in range(0, n):\n",
    "            sum_x += (traj[i+j, 0] - traj[j, 0]) ** 2\n",
    "            sum_y += (traj[i+j, 1] - traj[j, 1]) ** 2\n",
    "            sum_z += (traj[i+j, 2] - traj[j, 2]) ** 2\n",
    "#         msd_x.append(sum_x/n)\n",
    "#         msd_y.append(sum_y/n)\n",
    "#         msd_z.append(sum_z/n)\n",
    "    return (msd_x, msd_y, msd_z)"
   ]
  },
  {
   "cell_type": "code",
   "execution_count": 14,
   "id": "e186f67d",
   "metadata": {},
   "outputs": [],
   "source": [
    "@jit(target=\"cpu\")\n",
    "def nested_loop_msd_gpu(traj):\n",
    "    msd_x = []\n",
    "    msd_y = []\n",
    "    msd_z = []\n",
    "    for i in range(0, len(traj[:, 0])):\n",
    "        sum_x = 0\n",
    "        sum_y = 0\n",
    "        sum_z = 0\n",
    "        n = len(traj[:, 0]) - i\n",
    "        for j in range(0, n):\n",
    "            sum_x += (traj[i+j, 0] - traj[j, 0]) ** 2\n",
    "            sum_y += (traj[i+j, 1] - traj[j, 1]) ** 2\n",
    "            sum_z += (traj[i+j, 2] - traj[j, 2]) ** 2\n",
    "        msd_x.append(sum_x/n)\n",
    "        msd_y.append(sum_y/n)\n",
    "        msd_z.append(sum_z/n)\n",
    "    return (msd_x, msd_y, msd_z)"
   ]
  },
  {
   "cell_type": "code",
   "execution_count": 25,
   "id": "ab95455a",
   "metadata": {},
   "outputs": [
    {
     "name": "stdout",
     "output_type": "stream",
     "text": [
      "CPU times: user 6.63 s, sys: 7.34 ms, total: 6.64 s\n",
      "Wall time: 6.67 s\n"
     ]
    }
   ],
   "source": [
    "%%time\n",
    "a = nested_loop_msd(traj[:2000])"
   ]
  },
  {
   "cell_type": "code",
   "execution_count": 28,
   "id": "9b99762a",
   "metadata": {},
   "outputs": [
    {
     "name": "stdout",
     "output_type": "stream",
     "text": [
      "CPU times: user 1.6 s, sys: 56.2 ms, total: 1.66 s\n",
      "Wall time: 1.65 s\n"
     ]
    }
   ],
   "source": [
    "%%time\n",
    "a = nested_loop_msd_gpu(traj)"
   ]
  },
  {
   "cell_type": "code",
   "execution_count": 5,
   "id": "e79bd7b5",
   "metadata": {},
   "outputs": [
    {
     "name": "stdout",
     "output_type": "stream",
     "text": [
      "CPU times: user 10min 22s, sys: 9.56 ms, total: 10min 22s\n",
      "Wall time: 10min 23s\n"
     ]
    }
   ],
   "source": [
    "%%time \n",
    "## brutal method\n",
    "msd_x = []\n",
    "msd_y = []\n",
    "msd_z = []\n",
    "for i in range(0, len(traj[:, 0])):\n",
    "    sum_x = 0\n",
    "    sum_y = 0\n",
    "    sum_z = 0\n",
    "    n = len(traj[:, 0]) - i\n",
    "    for j in range(0, n):\n",
    "        sum_x += (traj[i+j, 0] - traj[j, 0]) ** 2\n",
    "        sum_y += (traj[i+j, 1] - traj[j, 1]) ** 2\n",
    "        sum_z += (traj[i+j, 2] - traj[j, 2]) ** 2\n",
    "    msd_x.append(sum_x/n)\n",
    "    msd_y.append(sum_y/n)\n",
    "    msd_z.append(sum_z/n)"
   ]
  },
  {
   "cell_type": "markdown",
   "id": "3c6468b2",
   "metadata": {},
   "source": [
    "## 4 Vectorized"
   ]
  },
  {
   "cell_type": "code",
   "execution_count": 7,
   "id": "1592eb79",
   "metadata": {},
   "outputs": [],
   "source": [
    "def vectorized_msd(traj):\n",
    "    ## vectorized code\n",
    "    msd_list = []\n",
    "    for i in range(0, len(traj[:, 0])):\n",
    "        shifted = np.roll(traj, i, axis=0)\n",
    "        shifted[:i, :] = np.nan\n",
    "        diff = traj - shifted\n",
    "        diff_msq = np.nanmean((diff ** 2), axis=0)\n",
    "        msd_list.append(diff_msq)\n",
    "    return np.array(msd_list)"
   ]
  },
  {
   "cell_type": "code",
   "execution_count": 8,
   "id": "789ac72f",
   "metadata": {},
   "outputs": [],
   "source": [
    "@jit(target=\"cpu\")\n",
    "def vectorized_msd_gpu(traj):\n",
    "    ## vectorized code\n",
    "    msd_list = []\n",
    "    for i in range(0, len(traj[:, 0])):\n",
    "        shifted = np.roll(traj, i, axis=0)\n",
    "        shifted[:i, :] = np.nan\n",
    "        diff = traj - shifted\n",
    "        diff_msq = np.nanmean((diff ** 2), axis=0)\n",
    "        msd_list.append(diff_msq)\n",
    "    return np.array(msd_list)"
   ]
  },
  {
   "cell_type": "code",
   "execution_count": 10,
   "id": "28609dd6",
   "metadata": {},
   "outputs": [
    {
     "ename": "TypeError",
     "evalue": "'(slice(None, None, None), 0)' is an invalid key",
     "output_type": "error",
     "traceback": [
      "\u001b[0;31m---------------------------------------------------------------------------\u001b[0m",
      "\u001b[0;31mTypeError\u001b[0m                                 Traceback (most recent call last)",
      "\u001b[0;32m<timed exec>\u001b[0m in \u001b[0;36m<module>\u001b[0;34m\u001b[0m\n",
      "\u001b[0;32m/tmp/ipykernel_146772/2094547347.py\u001b[0m in \u001b[0;36mvectorized_msd\u001b[0;34m(traj)\u001b[0m\n\u001b[1;32m      2\u001b[0m     \u001b[0;31m## vectorized code\u001b[0m\u001b[0;34m\u001b[0m\u001b[0;34m\u001b[0m\u001b[0;34m\u001b[0m\u001b[0m\n\u001b[1;32m      3\u001b[0m     \u001b[0mmsd_list\u001b[0m \u001b[0;34m=\u001b[0m \u001b[0;34m[\u001b[0m\u001b[0;34m]\u001b[0m\u001b[0;34m\u001b[0m\u001b[0;34m\u001b[0m\u001b[0m\n\u001b[0;32m----> 4\u001b[0;31m     \u001b[0;32mfor\u001b[0m \u001b[0mi\u001b[0m \u001b[0;32min\u001b[0m \u001b[0mrange\u001b[0m\u001b[0;34m(\u001b[0m\u001b[0;36m0\u001b[0m\u001b[0;34m,\u001b[0m \u001b[0mlen\u001b[0m\u001b[0;34m(\u001b[0m\u001b[0mtraj\u001b[0m\u001b[0;34m[\u001b[0m\u001b[0;34m:\u001b[0m\u001b[0;34m,\u001b[0m \u001b[0;36m0\u001b[0m\u001b[0;34m]\u001b[0m\u001b[0;34m)\u001b[0m\u001b[0;34m)\u001b[0m\u001b[0;34m:\u001b[0m\u001b[0;34m\u001b[0m\u001b[0;34m\u001b[0m\u001b[0m\n\u001b[0m\u001b[1;32m      5\u001b[0m         \u001b[0mshifted\u001b[0m \u001b[0;34m=\u001b[0m \u001b[0mnp\u001b[0m\u001b[0;34m.\u001b[0m\u001b[0mroll\u001b[0m\u001b[0;34m(\u001b[0m\u001b[0mtraj\u001b[0m\u001b[0;34m,\u001b[0m \u001b[0mi\u001b[0m\u001b[0;34m,\u001b[0m \u001b[0maxis\u001b[0m\u001b[0;34m=\u001b[0m\u001b[0;36m0\u001b[0m\u001b[0;34m)\u001b[0m\u001b[0;34m\u001b[0m\u001b[0;34m\u001b[0m\u001b[0m\n\u001b[1;32m      6\u001b[0m         \u001b[0mshifted\u001b[0m\u001b[0;34m[\u001b[0m\u001b[0;34m:\u001b[0m\u001b[0mi\u001b[0m\u001b[0;34m,\u001b[0m \u001b[0;34m:\u001b[0m\u001b[0;34m]\u001b[0m \u001b[0;34m=\u001b[0m \u001b[0mnp\u001b[0m\u001b[0;34m.\u001b[0m\u001b[0mnan\u001b[0m\u001b[0;34m\u001b[0m\u001b[0;34m\u001b[0m\u001b[0m\n",
      "\u001b[0;32m~/miniconda3/lib/python3.9/site-packages/pandas/core/frame.py\u001b[0m in \u001b[0;36m__getitem__\u001b[0;34m(self, key)\u001b[0m\n\u001b[1;32m   3456\u001b[0m             \u001b[0;32mif\u001b[0m \u001b[0mself\u001b[0m\u001b[0;34m.\u001b[0m\u001b[0mcolumns\u001b[0m\u001b[0;34m.\u001b[0m\u001b[0mnlevels\u001b[0m \u001b[0;34m>\u001b[0m \u001b[0;36m1\u001b[0m\u001b[0;34m:\u001b[0m\u001b[0;34m\u001b[0m\u001b[0;34m\u001b[0m\u001b[0m\n\u001b[1;32m   3457\u001b[0m                 \u001b[0;32mreturn\u001b[0m \u001b[0mself\u001b[0m\u001b[0;34m.\u001b[0m\u001b[0m_getitem_multilevel\u001b[0m\u001b[0;34m(\u001b[0m\u001b[0mkey\u001b[0m\u001b[0;34m)\u001b[0m\u001b[0;34m\u001b[0m\u001b[0;34m\u001b[0m\u001b[0m\n\u001b[0;32m-> 3458\u001b[0;31m             \u001b[0mindexer\u001b[0m \u001b[0;34m=\u001b[0m \u001b[0mself\u001b[0m\u001b[0;34m.\u001b[0m\u001b[0mcolumns\u001b[0m\u001b[0;34m.\u001b[0m\u001b[0mget_loc\u001b[0m\u001b[0;34m(\u001b[0m\u001b[0mkey\u001b[0m\u001b[0;34m)\u001b[0m\u001b[0;34m\u001b[0m\u001b[0;34m\u001b[0m\u001b[0m\n\u001b[0m\u001b[1;32m   3459\u001b[0m             \u001b[0;32mif\u001b[0m \u001b[0mis_integer\u001b[0m\u001b[0;34m(\u001b[0m\u001b[0mindexer\u001b[0m\u001b[0;34m)\u001b[0m\u001b[0;34m:\u001b[0m\u001b[0;34m\u001b[0m\u001b[0;34m\u001b[0m\u001b[0m\n\u001b[1;32m   3460\u001b[0m                 \u001b[0mindexer\u001b[0m \u001b[0;34m=\u001b[0m \u001b[0;34m[\u001b[0m\u001b[0mindexer\u001b[0m\u001b[0;34m]\u001b[0m\u001b[0;34m\u001b[0m\u001b[0;34m\u001b[0m\u001b[0m\n",
      "\u001b[0;32m~/miniconda3/lib/python3.9/site-packages/pandas/core/indexes/base.py\u001b[0m in \u001b[0;36mget_loc\u001b[0;34m(self, key, method, tolerance)\u001b[0m\n\u001b[1;32m   3359\u001b[0m             \u001b[0mcasted_key\u001b[0m \u001b[0;34m=\u001b[0m \u001b[0mself\u001b[0m\u001b[0;34m.\u001b[0m\u001b[0m_maybe_cast_indexer\u001b[0m\u001b[0;34m(\u001b[0m\u001b[0mkey\u001b[0m\u001b[0;34m)\u001b[0m\u001b[0;34m\u001b[0m\u001b[0;34m\u001b[0m\u001b[0m\n\u001b[1;32m   3360\u001b[0m             \u001b[0;32mtry\u001b[0m\u001b[0;34m:\u001b[0m\u001b[0;34m\u001b[0m\u001b[0;34m\u001b[0m\u001b[0m\n\u001b[0;32m-> 3361\u001b[0;31m                 \u001b[0;32mreturn\u001b[0m \u001b[0mself\u001b[0m\u001b[0;34m.\u001b[0m\u001b[0m_engine\u001b[0m\u001b[0;34m.\u001b[0m\u001b[0mget_loc\u001b[0m\u001b[0;34m(\u001b[0m\u001b[0mcasted_key\u001b[0m\u001b[0;34m)\u001b[0m\u001b[0;34m\u001b[0m\u001b[0;34m\u001b[0m\u001b[0m\n\u001b[0m\u001b[1;32m   3362\u001b[0m             \u001b[0;32mexcept\u001b[0m \u001b[0mKeyError\u001b[0m \u001b[0;32mas\u001b[0m \u001b[0merr\u001b[0m\u001b[0;34m:\u001b[0m\u001b[0;34m\u001b[0m\u001b[0;34m\u001b[0m\u001b[0m\n\u001b[1;32m   3363\u001b[0m                 \u001b[0;32mraise\u001b[0m \u001b[0mKeyError\u001b[0m\u001b[0;34m(\u001b[0m\u001b[0mkey\u001b[0m\u001b[0;34m)\u001b[0m \u001b[0;32mfrom\u001b[0m \u001b[0merr\u001b[0m\u001b[0;34m\u001b[0m\u001b[0;34m\u001b[0m\u001b[0m\n",
      "\u001b[0;32m~/miniconda3/lib/python3.9/site-packages/pandas/_libs/index.pyx\u001b[0m in \u001b[0;36mpandas._libs.index.IndexEngine.get_loc\u001b[0;34m()\u001b[0m\n",
      "\u001b[0;32m~/miniconda3/lib/python3.9/site-packages/pandas/_libs/index.pyx\u001b[0m in \u001b[0;36mpandas._libs.index.IndexEngine.get_loc\u001b[0;34m()\u001b[0m\n",
      "\u001b[0;31mTypeError\u001b[0m: '(slice(None, None, None), 0)' is an invalid key"
     ]
    }
   ],
   "source": [
    "%%time\n",
    "a = vectorized_msd(traj[:2000])"
   ]
  },
  {
   "cell_type": "code",
   "execution_count": 9,
   "id": "6d1decb7",
   "metadata": {},
   "outputs": [
    {
     "name": "stderr",
     "output_type": "stream",
     "text": [
      "/tmp/ipykernel_146772/3551173925.py:1: NumbaWarning: \n",
      "Compilation is falling back to object mode WITH looplifting enabled because Function \"vectorized_msd_gpu\" failed type inference due to: non-precise type pyobject\n",
      "During: typing of argument at /tmp/ipykernel_146772/3551173925.py (4)\n",
      "\n",
      "File \"../../../../../../../tmp/ipykernel_146772/3551173925.py\", line 4:\n",
      "<source missing, REPL/exec in use?>\n",
      "\n",
      "  @jit(target=\"cpu\")\n",
      "/tmp/ipykernel_146772/3551173925.py:1: NumbaWarning: \n",
      "Compilation is falling back to object mode WITHOUT looplifting enabled because Function \"vectorized_msd_gpu\" failed type inference due to: Cannot determine Numba type of <class 'numba.core.dispatcher.LiftedLoop'>\n",
      "\n",
      "File \"../../../../../../../tmp/ipykernel_146772/3551173925.py\", line 5:\n",
      "<source missing, REPL/exec in use?>\n",
      "\n",
      "  @jit(target=\"cpu\")\n",
      "/home/zhengyang/miniconda3/lib/python3.9/site-packages/numba/core/object_mode_passes.py:151: NumbaWarning: Function \"vectorized_msd_gpu\" was compiled in object mode without forceobj=True, but has lifted loops.\n",
      "\n",
      "File \"../../../../../../../tmp/ipykernel_146772/3551173925.py\", line 4:\n",
      "<source missing, REPL/exec in use?>\n",
      "\n",
      "  warnings.warn(errors.NumbaWarning(warn_msg,\n",
      "/home/zhengyang/miniconda3/lib/python3.9/site-packages/numba/core/object_mode_passes.py:161: NumbaDeprecationWarning: \n",
      "Fall-back from the nopython compilation path to the object mode compilation path has been detected, this is deprecated behaviour.\n",
      "\n",
      "For more information visit https://numba.pydata.org/numba-doc/latest/reference/deprecation.html#deprecation-of-object-mode-fall-back-behaviour-when-using-jit\n",
      "\n",
      "File \"../../../../../../../tmp/ipykernel_146772/3551173925.py\", line 4:\n",
      "<source missing, REPL/exec in use?>\n",
      "\n",
      "  warnings.warn(errors.NumbaDeprecationWarning(msg,\n",
      "/tmp/ipykernel_146772/3551173925.py:1: NumbaWarning: \n",
      "Compilation is falling back to object mode WITHOUT looplifting enabled because Function \"vectorized_msd_gpu\" failed type inference due to: non-precise type pyobject\n",
      "During: typing of argument at /tmp/ipykernel_146772/3551173925.py (5)\n",
      "\n",
      "File \"../../../../../../../tmp/ipykernel_146772/3551173925.py\", line 5:\n",
      "<source missing, REPL/exec in use?>\n",
      "\n",
      "  @jit(target=\"cpu\")\n",
      "/home/zhengyang/miniconda3/lib/python3.9/site-packages/numba/core/object_mode_passes.py:151: NumbaWarning: Function \"vectorized_msd_gpu\" was compiled in object mode without forceobj=True.\n",
      "\n",
      "File \"../../../../../../../tmp/ipykernel_146772/3551173925.py\", line 5:\n",
      "<source missing, REPL/exec in use?>\n",
      "\n",
      "  warnings.warn(errors.NumbaWarning(warn_msg,\n",
      "/home/zhengyang/miniconda3/lib/python3.9/site-packages/numba/core/object_mode_passes.py:161: NumbaDeprecationWarning: \n",
      "Fall-back from the nopython compilation path to the object mode compilation path has been detected, this is deprecated behaviour.\n",
      "\n",
      "For more information visit https://numba.pydata.org/numba-doc/latest/reference/deprecation.html#deprecation-of-object-mode-fall-back-behaviour-when-using-jit\n",
      "\n",
      "File \"../../../../../../../tmp/ipykernel_146772/3551173925.py\", line 5:\n",
      "<source missing, REPL/exec in use?>\n",
      "\n",
      "  warnings.warn(errors.NumbaDeprecationWarning(msg,\n"
     ]
    },
    {
     "ename": "TypeError",
     "evalue": "'(slice(None, None, None), 0)' is an invalid key",
     "output_type": "error",
     "traceback": [
      "\u001b[0;31m---------------------------------------------------------------------------\u001b[0m",
      "\u001b[0;31mTypeError\u001b[0m                                 Traceback (most recent call last)",
      "\u001b[0;32m<timed exec>\u001b[0m in \u001b[0;36m<module>\u001b[0;34m\u001b[0m\n",
      "\u001b[0;32m~/miniconda3/lib/python3.9/site-packages/pandas/core/frame.py\u001b[0m in \u001b[0;36m__getitem__\u001b[0;34m(self, key)\u001b[0m\n\u001b[1;32m   3456\u001b[0m             \u001b[0;32mif\u001b[0m \u001b[0mself\u001b[0m\u001b[0;34m.\u001b[0m\u001b[0mcolumns\u001b[0m\u001b[0;34m.\u001b[0m\u001b[0mnlevels\u001b[0m \u001b[0;34m>\u001b[0m \u001b[0;36m1\u001b[0m\u001b[0;34m:\u001b[0m\u001b[0;34m\u001b[0m\u001b[0;34m\u001b[0m\u001b[0m\n\u001b[1;32m   3457\u001b[0m                 \u001b[0;32mreturn\u001b[0m \u001b[0mself\u001b[0m\u001b[0;34m.\u001b[0m\u001b[0m_getitem_multilevel\u001b[0m\u001b[0;34m(\u001b[0m\u001b[0mkey\u001b[0m\u001b[0;34m)\u001b[0m\u001b[0;34m\u001b[0m\u001b[0;34m\u001b[0m\u001b[0m\n\u001b[0;32m-> 3458\u001b[0;31m             \u001b[0mindexer\u001b[0m \u001b[0;34m=\u001b[0m \u001b[0mself\u001b[0m\u001b[0;34m.\u001b[0m\u001b[0mcolumns\u001b[0m\u001b[0;34m.\u001b[0m\u001b[0mget_loc\u001b[0m\u001b[0;34m(\u001b[0m\u001b[0mkey\u001b[0m\u001b[0;34m)\u001b[0m\u001b[0;34m\u001b[0m\u001b[0;34m\u001b[0m\u001b[0m\n\u001b[0m\u001b[1;32m   3459\u001b[0m             \u001b[0;32mif\u001b[0m \u001b[0mis_integer\u001b[0m\u001b[0;34m(\u001b[0m\u001b[0mindexer\u001b[0m\u001b[0;34m)\u001b[0m\u001b[0;34m:\u001b[0m\u001b[0;34m\u001b[0m\u001b[0;34m\u001b[0m\u001b[0m\n\u001b[1;32m   3460\u001b[0m                 \u001b[0mindexer\u001b[0m \u001b[0;34m=\u001b[0m \u001b[0;34m[\u001b[0m\u001b[0mindexer\u001b[0m\u001b[0;34m]\u001b[0m\u001b[0;34m\u001b[0m\u001b[0;34m\u001b[0m\u001b[0m\n",
      "\u001b[0;32m~/miniconda3/lib/python3.9/site-packages/pandas/core/indexes/base.py\u001b[0m in \u001b[0;36mget_loc\u001b[0;34m(self, key, method, tolerance)\u001b[0m\n\u001b[1;32m   3359\u001b[0m             \u001b[0mcasted_key\u001b[0m \u001b[0;34m=\u001b[0m \u001b[0mself\u001b[0m\u001b[0;34m.\u001b[0m\u001b[0m_maybe_cast_indexer\u001b[0m\u001b[0;34m(\u001b[0m\u001b[0mkey\u001b[0m\u001b[0;34m)\u001b[0m\u001b[0;34m\u001b[0m\u001b[0;34m\u001b[0m\u001b[0m\n\u001b[1;32m   3360\u001b[0m             \u001b[0;32mtry\u001b[0m\u001b[0;34m:\u001b[0m\u001b[0;34m\u001b[0m\u001b[0;34m\u001b[0m\u001b[0m\n\u001b[0;32m-> 3361\u001b[0;31m                 \u001b[0;32mreturn\u001b[0m \u001b[0mself\u001b[0m\u001b[0;34m.\u001b[0m\u001b[0m_engine\u001b[0m\u001b[0;34m.\u001b[0m\u001b[0mget_loc\u001b[0m\u001b[0;34m(\u001b[0m\u001b[0mcasted_key\u001b[0m\u001b[0;34m)\u001b[0m\u001b[0;34m\u001b[0m\u001b[0;34m\u001b[0m\u001b[0m\n\u001b[0m\u001b[1;32m   3362\u001b[0m             \u001b[0;32mexcept\u001b[0m \u001b[0mKeyError\u001b[0m \u001b[0;32mas\u001b[0m \u001b[0merr\u001b[0m\u001b[0;34m:\u001b[0m\u001b[0;34m\u001b[0m\u001b[0;34m\u001b[0m\u001b[0m\n\u001b[1;32m   3363\u001b[0m                 \u001b[0;32mraise\u001b[0m \u001b[0mKeyError\u001b[0m\u001b[0;34m(\u001b[0m\u001b[0mkey\u001b[0m\u001b[0;34m)\u001b[0m \u001b[0;32mfrom\u001b[0m \u001b[0merr\u001b[0m\u001b[0;34m\u001b[0m\u001b[0;34m\u001b[0m\u001b[0m\n",
      "\u001b[0;32m~/miniconda3/lib/python3.9/site-packages/pandas/_libs/index.pyx\u001b[0m in \u001b[0;36mpandas._libs.index.IndexEngine.get_loc\u001b[0;34m()\u001b[0m\n",
      "\u001b[0;32m~/miniconda3/lib/python3.9/site-packages/pandas/_libs/index.pyx\u001b[0m in \u001b[0;36mpandas._libs.index.IndexEngine.get_loc\u001b[0;34m()\u001b[0m\n",
      "\u001b[0;31mTypeError\u001b[0m: '(slice(None, None, None), 0)' is an invalid key"
     ]
    }
   ],
   "source": [
    "%%time\n",
    "a = vectorized_msd_gpu(traj[:2000])"
   ]
  },
  {
   "cell_type": "code",
   "execution_count": 115,
   "id": "4db59454",
   "metadata": {},
   "outputs": [
    {
     "data": {
      "text/plain": [
       "[]"
      ]
     },
     "execution_count": 115,
     "metadata": {},
     "output_type": "execute_result"
    },
    {
     "data": {
      "image/png": "[encoded data removed]",
      "text/plain": [
       "<Figure size 432x288 with 1 Axes>"
      ]
     },
     "metadata": {
      "needs_background": "light"
     },
     "output_type": "display_data"
    }
   ],
   "source": [
    "plt.plot(msd_x, marker='o', ls='')\n",
    "plt.plot(msd['<x^2>'], marker='x', ls='')\n",
    "plt.plot(msd_a[:, 0], marker='^', ls='')\n",
    "plt.loglog()"
   ]
  },
  {
   "cell_type": "markdown",
   "id": "89bc50d1",
   "metadata": {},
   "source": [
    "```matlab\n",
    "function [MSD_X,MSD_Y,MSD_Z,MSD,t_MSD] = msd_Gotaxyz(xc,yc,zc,fps)\n",
    "\n",
    "X = xc;\n",
    "Y = yc;\n",
    "Z=zc;\n",
    "%   MSD_X =zeros(1,length(X)/10);\n",
    "%   MSD_Y = zeros(1,length(X)/10);\n",
    "%   MSD_Z = zeros(1,length(X)/10);\n",
    "%   MSD=zeros(1,length(X)/10);\n",
    "for i = 1: length(X)/10%length(X)-1 % Recorro desde el primero hasta el penúltimo, para tener una diferencia. (Último con último == 0)  Para grabaciones cerca dejar en length(X)/10\n",
    "\n",
    "    Suma_X = 0;\n",
    "    Suma_Y = 0;\n",
    "    Suma_Z=0;\n",
    "    for j = 1:length(X)-i % Me voy separando de l en l. Si estoy parado en el elemento i, la máxima separación que me lleva al último elemento es length(X)-i\n",
    "    \n",
    "        Suma_X = Suma_X + (X(i+j) -X(j))^2; \n",
    "        Suma_Y = Suma_Y + (Y(i+j) -Y(j))^2; \n",
    "        Suma_Z = Suma_Z + (Z(i+j) -Z(j))^2; \n",
    "\n",
    "    end\n",
    "    \n",
    "    MSD_X(i) = Suma_X/(length(X)-i);\n",
    "    MSD_Y(i) = Suma_Y/(length(X)-i);\n",
    "    MSD_Z(i) = Suma_Z/(length(X)-i);\n",
    "\n",
    "    MSD(i) = (Suma_X+Suma_Y+Suma_Z)/(length(X)-i);\n",
    "    \n",
    "end\n",
    "\n",
    "% Para analisis gotas cerca volver a ponerlo\n",
    " MSD_X = [0,MSD_X] ;\n",
    " MSD_Y = [0,MSD_Y];\n",
    " MSD_Z=[0,MSD_Z];\n",
    " MSD = [0,MSD];\n",
    "\n",
    "if length(fps) == 1\n",
    "\n",
    "%linspace(0,length(X),length(X))/fps;\n",
    "%t_MSD=(0:length(MSD)-1)/fps;\n",
    "t_MSD=(0:length(MSD)-1)/fps;\n",
    "\n",
    "else\n",
    "    \n",
    "%t_MSD=(0:length(MSD)-1)/mean(fps);\n",
    "t_MSD=(0:length(MSD)-1)/mean(fps);\n",
    "    \n",
    "end\n",
    "\n",
    "\n",
    "```"
   ]
  }
 ],
 "metadata": {
  "kernelspec": {
   "display_name": "Python 3",
   "language": "python",
   "name": "python3"
  },
  "language_info": {
   "codemirror_mode": {
    "name": "ipython",
    "version": 3
   },
   "file_extension": ".py",
   "mimetype": "text/x-python",
   "name": "python",
   "nbconvert_exporter": "python",
   "pygments_lexer": "ipython3",
   "version": "3.9.5"
  }
 },
 "nbformat": 4,
 "nbformat_minor": 5
}
