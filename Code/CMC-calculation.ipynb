{
 "cells": [
  {
   "cell_type": "markdown",
   "id": "2fe360ce",
   "metadata": {},
   "source": [
    "# CMC calculation"
   ]
  },
  {
   "cell_type": "code",
   "execution_count": 1,
   "id": "bd3bd42c",
   "metadata": {},
   "outputs": [],
   "source": [
    "# SPAN 80 in hexadecane\n",
    "d_s = 0.98 # g/mL\n",
    "CMC = 0.43e-3 # mol/L\n",
    "Mw_s = 428.603 # g/mol\n",
    "d_h = 0.773 # g/ml"
   ]
  },
  {
   "cell_type": "code",
   "execution_count": 7,
   "id": "771d5486",
   "metadata": {},
   "outputs": [
    {
     "name": "stdout",
     "output_type": "stream",
     "text": [
      "The critical weight fraction of SPAN 80 in hexadecane is 0.0002\n"
     ]
    }
   ],
   "source": [
    "critical_weight_frac = Mw_s * CMC / (d_h * 1000)\n",
    "print('The critical weight fraction of SPAN 80 in hexadecane is {:.4f}'.format(critical_weight_frac))"
   ]
  }
 ],
 "metadata": {
  "kernelspec": {
   "display_name": "Python 3",
   "language": "python",
   "name": "python3"
  },
  "language_info": {
   "codemirror_mode": {
    "name": "ipython",
    "version": 3
   },
   "file_extension": ".py",
   "mimetype": "text/x-python",
   "name": "python",
   "nbconvert_exporter": "python",
   "pygments_lexer": "ipython3",
   "version": "3.8.5"
  }
 },
 "nbformat": 4,
 "nbformat_minor": 5
}
